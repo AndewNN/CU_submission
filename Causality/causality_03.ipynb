{
  "cells": [
    {
      "cell_type": "code",
      "execution_count": 980,
      "metadata": {
        "colab": {
          "base_uri": "https://localhost:8080/"
        },
        "id": "sXjOeggof_qD",
        "outputId": "339fe0b7-962d-4396-e197-445c0dacf142"
      },
      "outputs": [],
      "source": [
        "# !pip install dowhy econml"
      ]
    },
    {
      "cell_type": "code",
      "execution_count": 981,
      "metadata": {
        "id": "E1hYZtz-iZFc"
      },
      "outputs": [],
      "source": [
        "import warnings\n",
        "warnings.simplefilter(action='ignore', category=FutureWarning)\n",
        "\n",
        "import networkx as nx\n",
        "import numpy as np\n",
        "import pandas as pd\n",
        "from scipy import stats\n",
        "import matplotlib.pyplot as plt\n",
        "import statsmodels.api as sm\n",
        "\n",
        "import dowhy\n",
        "from dowhy import CausalModel"
      ]
    },
    {
      "cell_type": "code",
      "execution_count": 982,
      "metadata": {
        "id": "t91J1hZkjOXX"
      },
      "outputs": [],
      "source": [
        "SAMPLES_SIZE = 100000"
      ]
    },
    {
      "cell_type": "code",
      "execution_count": 983,
      "metadata": {
        "id": "E0mAbIebgIrR"
      },
      "outputs": [],
      "source": [
        "# A Simple Data Set\n",
        "G = nx.DiGraph()\n",
        "G.add_edges_from([\n",
        "    ('U', 'X'),\n",
        "    ('U', 'Y'),\n",
        "    ('X', 'Z'),\n",
        "    ('Z', 'Y')\n",
        "])\n",
        "\n",
        "U = stats.truncnorm(-np.infty, np.infty, scale=4).rvs(SAMPLES_SIZE)\n",
        "X = 0.7*U + stats.norm(scale=2).rvs(SAMPLES_SIZE)\n",
        "Z = -0.6*X + stats.norm(scale=2).rvs(SAMPLES_SIZE)\n",
        "Y = 0.7*Z + 0.25*U + stats.norm(scale=2).rvs(SAMPLES_SIZE)\n",
        "\n",
        "# QUESTION 1\n",
        "# Using PATH method, what is the expected causal effect of X on Y?"
      ]
    },
    {
      "cell_type": "code",
      "execution_count": 984,
      "metadata": {
        "colab": {
          "base_uri": "https://localhost:8080/",
          "height": 473
        },
        "id": "xJbp9mUzj9Ty",
        "outputId": "cd38878e-4327-4b15-8a06-7438ebb392ca"
      },
      "outputs": [
        {
          "data": {
            "text/html": [
              "<table class=\"simpletable\">\n",
              "<caption>OLS Regression Results</caption>\n",
              "<tr>\n",
              "  <th>Dep. Variable:</th>            <td>y</td>        <th>  R-squared:         </th>  <td>   0.351</td>  \n",
              "</tr>\n",
              "<tr>\n",
              "  <th>Model:</th>                   <td>OLS</td>       <th>  Adj. R-squared:    </th>  <td>   0.351</td>  \n",
              "</tr>\n",
              "<tr>\n",
              "  <th>Method:</th>             <td>Least Squares</td>  <th>  F-statistic:       </th>  <td>2.709e+04</td> \n",
              "</tr>\n",
              "<tr>\n",
              "  <th>Date:</th>             <td>Fri, 07 Feb 2025</td> <th>  Prob (F-statistic):</th>   <td>  0.00</td>   \n",
              "</tr>\n",
              "<tr>\n",
              "  <th>Time:</th>                 <td>10:10:46</td>     <th>  Log-Likelihood:    </th> <td>-2.1529e+05</td>\n",
              "</tr>\n",
              "<tr>\n",
              "  <th>No. Observations:</th>      <td>100000</td>      <th>  AIC:               </th>  <td>4.306e+05</td> \n",
              "</tr>\n",
              "<tr>\n",
              "  <th>Df Residuals:</th>          <td> 99997</td>      <th>  BIC:               </th>  <td>4.306e+05</td> \n",
              "</tr>\n",
              "<tr>\n",
              "  <th>Df Model:</th>              <td>     2</td>      <th>                     </th>      <td> </td>     \n",
              "</tr>\n",
              "<tr>\n",
              "  <th>Covariance Type:</th>      <td>nonrobust</td>    <th>                     </th>      <td> </td>     \n",
              "</tr>\n",
              "</table>\n",
              "<table class=\"simpletable\">\n",
              "<tr>\n",
              "    <td></td>       <th>coef</th>     <th>std err</th>      <th>t</th>      <th>P>|t|</th>  <th>[0.025</th>    <th>0.975]</th>  \n",
              "</tr>\n",
              "<tr>\n",
              "  <th>const</th> <td>   -0.0052</td> <td>    0.007</td> <td>   -0.786</td> <td> 0.432</td> <td>   -0.018</td> <td>    0.008</td>\n",
              "</tr>\n",
              "<tr>\n",
              "  <th>X</th>     <td>    0.2364</td> <td>    0.003</td> <td>   85.791</td> <td> 0.000</td> <td>    0.231</td> <td>    0.242</td>\n",
              "</tr>\n",
              "<tr>\n",
              "  <th>Z</th>     <td>    0.6990</td> <td>    0.003</td> <td>  212.008</td> <td> 0.000</td> <td>    0.692</td> <td>    0.705</td>\n",
              "</tr>\n",
              "</table>\n",
              "<table class=\"simpletable\">\n",
              "<tr>\n",
              "  <th>Omnibus:</th>       <td> 1.990</td> <th>  Durbin-Watson:     </th> <td>   2.001</td>\n",
              "</tr>\n",
              "<tr>\n",
              "  <th>Prob(Omnibus):</th> <td> 0.370</td> <th>  Jarque-Bera (JB):  </th> <td>   1.995</td>\n",
              "</tr>\n",
              "<tr>\n",
              "  <th>Skew:</th>          <td>-0.004</td> <th>  Prob(JB):          </th> <td>   0.369</td>\n",
              "</tr>\n",
              "<tr>\n",
              "  <th>Kurtosis:</th>      <td> 3.021</td> <th>  Cond. No.          </th> <td>    4.17</td>\n",
              "</tr>\n",
              "</table><br/><br/>Notes:<br/>[1] Standard Errors assume that the covariance matrix of the errors is correctly specified."
            ],
            "text/latex": [
              "\\begin{center}\n",
              "\\begin{tabular}{lclc}\n",
              "\\toprule\n",
              "\\textbf{Dep. Variable:}    &        y         & \\textbf{  R-squared:         } &      0.351   \\\\\n",
              "\\textbf{Model:}            &       OLS        & \\textbf{  Adj. R-squared:    } &      0.351   \\\\\n",
              "\\textbf{Method:}           &  Least Squares   & \\textbf{  F-statistic:       } &  2.709e+04   \\\\\n",
              "\\textbf{Date:}             & Fri, 07 Feb 2025 & \\textbf{  Prob (F-statistic):} &      0.00    \\\\\n",
              "\\textbf{Time:}             &     10:10:46     & \\textbf{  Log-Likelihood:    } & -2.1529e+05  \\\\\n",
              "\\textbf{No. Observations:} &      100000      & \\textbf{  AIC:               } &  4.306e+05   \\\\\n",
              "\\textbf{Df Residuals:}     &       99997      & \\textbf{  BIC:               } &  4.306e+05   \\\\\n",
              "\\textbf{Df Model:}         &           2      & \\textbf{                     } &              \\\\\n",
              "\\textbf{Covariance Type:}  &    nonrobust     & \\textbf{                     } &              \\\\\n",
              "\\bottomrule\n",
              "\\end{tabular}\n",
              "\\begin{tabular}{lcccccc}\n",
              "               & \\textbf{coef} & \\textbf{std err} & \\textbf{t} & \\textbf{P$> |$t$|$} & \\textbf{[0.025} & \\textbf{0.975]}  \\\\\n",
              "\\midrule\n",
              "\\textbf{const} &      -0.0052  &        0.007     &    -0.786  &         0.432        &       -0.018    &        0.008     \\\\\n",
              "\\textbf{X}     &       0.2364  &        0.003     &    85.791  &         0.000        &        0.231    &        0.242     \\\\\n",
              "\\textbf{Z}     &       0.6990  &        0.003     &   212.008  &         0.000        &        0.692    &        0.705     \\\\\n",
              "\\bottomrule\n",
              "\\end{tabular}\n",
              "\\begin{tabular}{lclc}\n",
              "\\textbf{Omnibus:}       &  1.990 & \\textbf{  Durbin-Watson:     } &    2.001  \\\\\n",
              "\\textbf{Prob(Omnibus):} &  0.370 & \\textbf{  Jarque-Bera (JB):  } &    1.995  \\\\\n",
              "\\textbf{Skew:}          & -0.004 & \\textbf{  Prob(JB):          } &    0.369  \\\\\n",
              "\\textbf{Kurtosis:}      &  3.021 & \\textbf{  Cond. No.          } &     4.17  \\\\\n",
              "\\bottomrule\n",
              "\\end{tabular}\n",
              "%\\caption{OLS Regression Results}\n",
              "\\end{center}\n",
              "\n",
              "Notes: \\newline\n",
              " [1] Standard Errors assume that the covariance matrix of the errors is correctly specified."
            ],
            "text/plain": [
              "<class 'statsmodels.iolib.summary.Summary'>\n",
              "\"\"\"\n",
              "                            OLS Regression Results                            \n",
              "==============================================================================\n",
              "Dep. Variable:                      y   R-squared:                       0.351\n",
              "Model:                            OLS   Adj. R-squared:                  0.351\n",
              "Method:                 Least Squares   F-statistic:                 2.709e+04\n",
              "Date:                Fri, 07 Feb 2025   Prob (F-statistic):               0.00\n",
              "Time:                        10:10:46   Log-Likelihood:            -2.1529e+05\n",
              "No. Observations:              100000   AIC:                         4.306e+05\n",
              "Df Residuals:                   99997   BIC:                         4.306e+05\n",
              "Df Model:                           2                                         \n",
              "Covariance Type:            nonrobust                                         \n",
              "==============================================================================\n",
              "                 coef    std err          t      P>|t|      [0.025      0.975]\n",
              "------------------------------------------------------------------------------\n",
              "const         -0.0052      0.007     -0.786      0.432      -0.018       0.008\n",
              "X              0.2364      0.003     85.791      0.000       0.231       0.242\n",
              "Z              0.6990      0.003    212.008      0.000       0.692       0.705\n",
              "==============================================================================\n",
              "Omnibus:                        1.990   Durbin-Watson:                   2.001\n",
              "Prob(Omnibus):                  0.370   Jarque-Bera (JB):                1.995\n",
              "Skew:                          -0.004   Prob(JB):                        0.369\n",
              "Kurtosis:                       3.021   Cond. No.                         4.17\n",
              "==============================================================================\n",
              "\n",
              "Notes:\n",
              "[1] Standard Errors assume that the covariance matrix of the errors is correctly specified.\n",
              "\"\"\""
            ]
          },
          "execution_count": 984,
          "metadata": {},
          "output_type": "execute_result"
        }
      ],
      "source": [
        "# Try regular OLS\n",
        "data = pd.DataFrame({'X': X, 'Z': Z})\n",
        "data = sm.add_constant(data, prepend=True)\n",
        "model = sm.OLS(Y, data) # Ordinary Linear Regression\n",
        "results = model.fit()\n",
        "results.summary()\n",
        "\n",
        "# QUESTION 2\n",
        "# What can you identify from this result in combination with the graph above"
      ]
    },
    {
      "cell_type": "code",
      "execution_count": 210,
      "metadata": {
        "colab": {
          "base_uri": "https://localhost:8080/"
        },
        "id": "hMq9PnbmkgzH",
        "outputId": "e0090689-91f0-475c-eac5-9c76bb6a0cda"
      },
      "outputs": [
        {
          "name": "stderr",
          "output_type": "stream",
          "text": [
            "1 variables are assumed unobserved because they are not in the dataset. Configure the logging level to `logging.WARNING` or higher for additional details.\n"
          ]
        }
      ],
      "source": [
        "# Use DoWhy Model\n",
        "model = CausalModel(\n",
        "    data=pd.DataFrame({'X': X, 'Y': Y, 'Z': Z}),\n",
        "    treatment='X',\n",
        "    outcome='Y',\n",
        "    graph=\"\\n\".join(nx.generate_gml(G))\n",
        ")"
      ]
    },
    {
      "cell_type": "code",
      "execution_count": 211,
      "metadata": {
        "colab": {
          "base_uri": "https://localhost:8080/",
          "height": 499
        },
        "id": "ABuBs05cmpiv",
        "outputId": "27a72d68-64c7-4746-9272-0bfc4fb4086f"
      },
      "outputs": [
        {
          "data": {
            "image/png": "[encoded data removed]",
            "text/plain": [
              "<Figure size 800x600 with 1 Axes>"
            ]
          },
          "metadata": {},
          "output_type": "display_data"
        }
      ],
      "source": [
        "model.view_model()"
      ]
    },
    {
      "cell_type": "code",
      "execution_count": 212,
      "metadata": {
        "colab": {
          "base_uri": "https://localhost:8080/"
        },
        "id": "2NrQYCF8nmTm",
        "outputId": "1d6c7323-4350-4bb4-a153-5c1af50547d5"
      },
      "outputs": [
        {
          "name": "stdout",
          "output_type": "stream",
          "text": [
            "Estimand type: EstimandType.NONPARAMETRIC_ATE\n",
            "\n",
            "### Estimand : 1\n",
            "Estimand name: backdoor\n",
            "No such variable(s) found!\n",
            "\n",
            "### Estimand : 2\n",
            "Estimand name: iv\n",
            "No such variable(s) found!\n",
            "\n",
            "### Estimand : 3\n",
            "Estimand name: frontdoor\n",
            "Estimand expression:\n",
            " ⎡ d       d       ⎤\n",
            "E⎢────(Y)⋅────([Z])⎥\n",
            " ⎣d[Z]    d[X]     ⎦\n",
            "Estimand assumption 1, Full-mediation: Z intercepts (blocks) all directed paths from X to Y.\n",
            "Estimand assumption 2, First-stage-unconfoundedness: If U→{X} and U→{Z} then P(Z|X,U) = P(Z|X)\n",
            "Estimand assumption 3, Second-stage-unconfoundedness: If U→{Z} and U→Y then P(Y|Z, X, U) = P(Y|Z, X)\n",
            "\n"
          ]
        }
      ],
      "source": [
        "estimand = model.identify_effect()\n",
        "print(estimand)"
      ]
    },
    {
      "cell_type": "code",
      "execution_count": 213,
      "metadata": {
        "colab": {
          "base_uri": "https://localhost:8080/"
        },
        "id": "1MVyPG5OnoqQ",
        "outputId": "c7d9351f-4cfc-4b74-b957-da733a3c1d46"
      },
      "outputs": [
        {
          "name": "stdout",
          "output_type": "stream",
          "text": [
            "Estimate of causal effect (linear regression): -0.4215971053273499\n"
          ]
        }
      ],
      "source": [
        "estimate = model.estimate_effect(\n",
        "    identified_estimand=estimand,\n",
        "    method_name='frontdoor.two_stage_regression')\n",
        "\n",
        "print(f'Estimate of causal effect (linear regression): {estimate.value}')\n",
        "\n",
        "# Question 3: Does this match your expection in Q1?"
      ]
    },
    {
      "cell_type": "code",
      "execution_count": 214,
      "metadata": {
        "id": "xhk1ThbSnwxe"
      },
      "outputs": [],
      "source": [
        "refute_subset = model.refute_estimate(\n",
        "    estimand=estimand,\n",
        "    estimate=estimate,\n",
        "    method_name=\"data_subset_refuter\",\n",
        "    subset_fraction=0.4)"
      ]
    },
    {
      "cell_type": "code",
      "execution_count": 215,
      "metadata": {
        "colab": {
          "base_uri": "https://localhost:8080/"
        },
        "id": "PWSQryWKoPRk",
        "outputId": "c0fab5e7-82b9-43b6-984c-ceeb605afeac"
      },
      "outputs": [
        {
          "name": "stdout",
          "output_type": "stream",
          "text": [
            "Refute: Use a subset of data\n",
            "Estimated effect:-0.4215971053273499\n",
            "New effect:-0.42160186842688563\n",
            "p value:0.98\n",
            "\n"
          ]
        }
      ],
      "source": [
        "print(refute_subset)"
      ]
    },
    {
      "cell_type": "code",
      "execution_count": 216,
      "metadata": {
        "id": "5hDb3-1soeC_"
      },
      "outputs": [],
      "source": [
        "refute_placebo = model.refute_estimate(\n",
        "    estimand=estimand,\n",
        "    estimate=estimate,\n",
        "    method_name=\"placebo_treatment_refuter\")"
      ]
    },
    {
      "cell_type": "code",
      "execution_count": 217,
      "metadata": {
        "colab": {
          "base_uri": "https://localhost:8080/"
        },
        "id": "kNJwUI_LoxR3",
        "outputId": "04c450ed-5583-48b9-b5e0-7b7c79df543a"
      },
      "outputs": [
        {
          "name": "stdout",
          "output_type": "stream",
          "text": [
            "Refute: Use a Placebo Treatment\n",
            "Estimated effect:-0.4215971053273499\n",
            "New effect:-0.42159710532734984\n",
            "p value:0.0\n",
            "\n"
          ]
        }
      ],
      "source": [
        "print(refute_placebo)"
      ]
    },
    {
      "cell_type": "code",
      "execution_count": 218,
      "metadata": {
        "id": "XneJvN0Bo0kv"
      },
      "outputs": [],
      "source": [
        "# Another Data Set\n",
        "G = nx.DiGraph()\n",
        "G.add_edges_from([\n",
        "    ('U', 'X'),\n",
        "    ('U', 'Y'),\n",
        "    ('X', 'Z'),\n",
        "    ('Z', 'Y'),\n",
        "    ('I', 'X')\n",
        "])\n",
        "\n",
        "U = stats.truncnorm(0, np.infty, scale=4).rvs(SAMPLES_SIZE)\n",
        "I = stats.norm(scale=10).rvs(SAMPLES_SIZE)\n",
        "X = 0.7*U + 0.3*I + stats.norm(scale=2).rvs(SAMPLES_SIZE)\n",
        "Z = -0.6*X + stats.norm(scale=2).rvs(SAMPLES_SIZE)\n",
        "Y = 0.7*Z + 0.25*U + stats.norm(scale=2).rvs(SAMPLES_SIZE)"
      ]
    },
    {
      "cell_type": "code",
      "execution_count": 219,
      "metadata": {
        "id": "OXIJ9rjOqVoE"
      },
      "outputs": [],
      "source": [
        "# Use DoWhy Model\n",
        "model = CausalModel(\n",
        "    data=pd.DataFrame({'X': X, 'Y': Y, 'Z': Z, 'U': U, 'I': I}),\n",
        "    treatment='X',\n",
        "    outcome='Y',\n",
        "    graph=\"\\n\".join(nx.generate_gml(G))\n",
        ")"
      ]
    },
    {
      "cell_type": "code",
      "execution_count": 220,
      "metadata": {
        "colab": {
          "base_uri": "https://localhost:8080/",
          "height": 499
        },
        "id": "D4ykzwU9qcnK",
        "outputId": "f9459f86-7508-4ab4-c89d-04965d8361dc"
      },
      "outputs": [
        {
          "data": {
            "image/png": "[encoded data removed]",
            "text/plain": [
              "<Figure size 800x600 with 1 Axes>"
            ]
          },
          "metadata": {},
          "output_type": "display_data"
        }
      ],
      "source": [
        "model.view_model()"
      ]
    },
    {
      "cell_type": "code",
      "execution_count": 221,
      "metadata": {
        "colab": {
          "base_uri": "https://localhost:8080/"
        },
        "id": "Umg0lqXLqeYV",
        "outputId": "bd48f439-58c8-4c89-9024-5d8b5741f5b0"
      },
      "outputs": [
        {
          "name": "stdout",
          "output_type": "stream",
          "text": [
            "Estimand type: EstimandType.NONPARAMETRIC_ATE\n",
            "\n",
            "### Estimand : 1\n",
            "Estimand name: backdoor\n",
            "Estimand expression:\n",
            " d          \n",
            "────(E[Y|U])\n",
            "d[X]        \n",
            "Estimand assumption 1, Unconfoundedness: If U→{X} and U→Y then P(Y|X,U,U) = P(Y|X,U)\n",
            "\n",
            "### Estimand : 2\n",
            "Estimand name: iv\n",
            "Estimand expression:\n",
            " ⎡                   -1⎤\n",
            " ⎢ d      ⎛ d       ⎞  ⎥\n",
            "E⎢────(Y)⋅⎜────([X])⎟  ⎥\n",
            " ⎣d[I]    ⎝d[I]     ⎠  ⎦\n",
            "Estimand assumption 1, As-if-random: If U→→Y then ¬(U →→{I})\n",
            "Estimand assumption 2, Exclusion: If we remove {I}→{X}, then ¬({I}→Y)\n",
            "\n",
            "### Estimand : 3\n",
            "Estimand name: frontdoor\n",
            "Estimand expression:\n",
            " ⎡ d       d       ⎤\n",
            "E⎢────(Y)⋅────([Z])⎥\n",
            " ⎣d[Z]    d[X]     ⎦\n",
            "Estimand assumption 1, Full-mediation: Z intercepts (blocks) all directed paths from X to Y.\n",
            "Estimand assumption 2, First-stage-unconfoundedness: If U→{X} and U→{Z} then P(Z|X,U) = P(Z|X)\n",
            "Estimand assumption 3, Second-stage-unconfoundedness: If U→{Z} and U→Y then P(Y|Z, X, U) = P(Y|Z, X)\n",
            "\n"
          ]
        }
      ],
      "source": [
        "estimand = model.identify_effect()\n",
        "print(estimand)"
      ]
    },
    {
      "cell_type": "code",
      "execution_count": 222,
      "metadata": {
        "colab": {
          "base_uri": "https://localhost:8080/",
          "height": 451
        },
        "id": "v76qNHRqvOvA",
        "outputId": "3d8859d2-92af-4de6-c960-5680de8f260a"
      },
      "outputs": [
        {
          "data": {
            "text/html": [
              "<table class=\"simpletable\">\n",
              "<caption>OLS Regression Results</caption>\n",
              "<tr>\n",
              "  <th>Dep. Variable:</th>            <td>y</td>        <th>  R-squared:         </th>  <td>   0.240</td>  \n",
              "</tr>\n",
              "<tr>\n",
              "  <th>Model:</th>                   <td>OLS</td>       <th>  Adj. R-squared:    </th>  <td>   0.240</td>  \n",
              "</tr>\n",
              "<tr>\n",
              "  <th>Method:</th>             <td>Least Squares</td>  <th>  F-statistic:       </th>  <td>3.164e+04</td> \n",
              "</tr>\n",
              "<tr>\n",
              "  <th>Date:</th>             <td>Fri, 07 Feb 2025</td> <th>  Prob (F-statistic):</th>   <td>  0.00</td>   \n",
              "</tr>\n",
              "<tr>\n",
              "  <th>Time:</th>                 <td>09:26:04</td>     <th>  Log-Likelihood:    </th> <td>-2.3361e+05</td>\n",
              "</tr>\n",
              "<tr>\n",
              "  <th>No. Observations:</th>      <td>100000</td>      <th>  AIC:               </th>  <td>4.672e+05</td> \n",
              "</tr>\n",
              "<tr>\n",
              "  <th>Df Residuals:</th>          <td> 99998</td>      <th>  BIC:               </th>  <td>4.672e+05</td> \n",
              "</tr>\n",
              "<tr>\n",
              "  <th>Df Model:</th>              <td>     1</td>      <th>                     </th>      <td> </td>     \n",
              "</tr>\n",
              "<tr>\n",
              "  <th>Covariance Type:</th>      <td>nonrobust</td>    <th>                     </th>      <td> </td>     \n",
              "</tr>\n",
              "</table>\n",
              "<table class=\"simpletable\">\n",
              "<tr>\n",
              "    <td></td>       <th>coef</th>     <th>std err</th>      <th>t</th>      <th>P>|t|</th>  <th>[0.025</th>    <th>0.975]</th>  \n",
              "</tr>\n",
              "<tr>\n",
              "  <th>const</th> <td>    0.6580</td> <td>    0.009</td> <td>   72.588</td> <td> 0.000</td> <td>    0.640</td> <td>    0.676</td>\n",
              "</tr>\n",
              "<tr>\n",
              "  <th>X</th>     <td>   -0.3543</td> <td>    0.002</td> <td> -177.887</td> <td> 0.000</td> <td>   -0.358</td> <td>   -0.350</td>\n",
              "</tr>\n",
              "</table>\n",
              "<table class=\"simpletable\">\n",
              "<tr>\n",
              "  <th>Omnibus:</th>       <td> 1.759</td> <th>  Durbin-Watson:     </th> <td>   1.992</td>\n",
              "</tr>\n",
              "<tr>\n",
              "  <th>Prob(Omnibus):</th> <td> 0.415</td> <th>  Jarque-Bera (JB):  </th> <td>   1.749</td>\n",
              "</tr>\n",
              "<tr>\n",
              "  <th>Skew:</th>          <td> 0.010</td> <th>  Prob(JB):          </th> <td>   0.417</td>\n",
              "</tr>\n",
              "<tr>\n",
              "  <th>Kurtosis:</th>      <td> 3.007</td> <th>  Cond. No.          </th> <td>    5.28</td>\n",
              "</tr>\n",
              "</table><br/><br/>Notes:<br/>[1] Standard Errors assume that the covariance matrix of the errors is correctly specified."
            ],
            "text/latex": [
              "\\begin{center}\n",
              "\\begin{tabular}{lclc}\n",
              "\\toprule\n",
              "\\textbf{Dep. Variable:}    &        y         & \\textbf{  R-squared:         } &      0.240   \\\\\n",
              "\\textbf{Model:}            &       OLS        & \\textbf{  Adj. R-squared:    } &      0.240   \\\\\n",
              "\\textbf{Method:}           &  Least Squares   & \\textbf{  F-statistic:       } &  3.164e+04   \\\\\n",
              "\\textbf{Date:}             & Fri, 07 Feb 2025 & \\textbf{  Prob (F-statistic):} &      0.00    \\\\\n",
              "\\textbf{Time:}             &     09:26:04     & \\textbf{  Log-Likelihood:    } & -2.3361e+05  \\\\\n",
              "\\textbf{No. Observations:} &      100000      & \\textbf{  AIC:               } &  4.672e+05   \\\\\n",
              "\\textbf{Df Residuals:}     &       99998      & \\textbf{  BIC:               } &  4.672e+05   \\\\\n",
              "\\textbf{Df Model:}         &           1      & \\textbf{                     } &              \\\\\n",
              "\\textbf{Covariance Type:}  &    nonrobust     & \\textbf{                     } &              \\\\\n",
              "\\bottomrule\n",
              "\\end{tabular}\n",
              "\\begin{tabular}{lcccccc}\n",
              "               & \\textbf{coef} & \\textbf{std err} & \\textbf{t} & \\textbf{P$> |$t$|$} & \\textbf{[0.025} & \\textbf{0.975]}  \\\\\n",
              "\\midrule\n",
              "\\textbf{const} &       0.6580  &        0.009     &    72.588  &         0.000        &        0.640    &        0.676     \\\\\n",
              "\\textbf{X}     &      -0.3543  &        0.002     &  -177.887  &         0.000        &       -0.358    &       -0.350     \\\\\n",
              "\\bottomrule\n",
              "\\end{tabular}\n",
              "\\begin{tabular}{lclc}\n",
              "\\textbf{Omnibus:}       &  1.759 & \\textbf{  Durbin-Watson:     } &    1.992  \\\\\n",
              "\\textbf{Prob(Omnibus):} &  0.415 & \\textbf{  Jarque-Bera (JB):  } &    1.749  \\\\\n",
              "\\textbf{Skew:}          &  0.010 & \\textbf{  Prob(JB):          } &    0.417  \\\\\n",
              "\\textbf{Kurtosis:}      &  3.007 & \\textbf{  Cond. No.          } &     5.28  \\\\\n",
              "\\bottomrule\n",
              "\\end{tabular}\n",
              "%\\caption{OLS Regression Results}\n",
              "\\end{center}\n",
              "\n",
              "Notes: \\newline\n",
              " [1] Standard Errors assume that the covariance matrix of the errors is correctly specified."
            ],
            "text/plain": [
              "<class 'statsmodels.iolib.summary.Summary'>\n",
              "\"\"\"\n",
              "                            OLS Regression Results                            \n",
              "==============================================================================\n",
              "Dep. Variable:                      y   R-squared:                       0.240\n",
              "Model:                            OLS   Adj. R-squared:                  0.240\n",
              "Method:                 Least Squares   F-statistic:                 3.164e+04\n",
              "Date:                Fri, 07 Feb 2025   Prob (F-statistic):               0.00\n",
              "Time:                        09:26:04   Log-Likelihood:            -2.3361e+05\n",
              "No. Observations:              100000   AIC:                         4.672e+05\n",
              "Df Residuals:                   99998   BIC:                         4.672e+05\n",
              "Df Model:                           1                                         \n",
              "Covariance Type:            nonrobust                                         \n",
              "==============================================================================\n",
              "                 coef    std err          t      P>|t|      [0.025      0.975]\n",
              "------------------------------------------------------------------------------\n",
              "const          0.6580      0.009     72.588      0.000       0.640       0.676\n",
              "X             -0.3543      0.002   -177.887      0.000      -0.358      -0.350\n",
              "==============================================================================\n",
              "Omnibus:                        1.759   Durbin-Watson:                   1.992\n",
              "Prob(Omnibus):                  0.415   Jarque-Bera (JB):                1.749\n",
              "Skew:                           0.010   Prob(JB):                        0.417\n",
              "Kurtosis:                       3.007   Cond. No.                         5.28\n",
              "==============================================================================\n",
              "\n",
              "Notes:\n",
              "[1] Standard Errors assume that the covariance matrix of the errors is correctly specified.\n",
              "\"\"\""
            ]
          },
          "execution_count": 222,
          "metadata": {},
          "output_type": "execute_result"
        }
      ],
      "source": [
        "# No backdoor\n",
        "data = pd.DataFrame({'X': X})\n",
        "data = sm.add_constant(data, prepend=True)\n",
        "model_ols_no_backdoor = sm.OLS(Y, data) # Ordinary Linear Regression\n",
        "results = model_ols_no_backdoor.fit()\n",
        "results.summary()"
      ]
    },
    {
      "cell_type": "code",
      "execution_count": 223,
      "metadata": {
        "colab": {
          "base_uri": "https://localhost:8080/",
          "height": 473
        },
        "id": "5TAtTb-iuxgk",
        "outputId": "e4fe38b9-1d59-464f-c5fc-9153ab83c319"
      },
      "outputs": [
        {
          "data": {
            "text/html": [
              "<table class=\"simpletable\">\n",
              "<caption>OLS Regression Results</caption>\n",
              "<tr>\n",
              "  <th>Dep. Variable:</th>            <td>y</td>        <th>  R-squared:         </th>  <td>   0.276</td>  \n",
              "</tr>\n",
              "<tr>\n",
              "  <th>Model:</th>                   <td>OLS</td>       <th>  Adj. R-squared:    </th>  <td>   0.276</td>  \n",
              "</tr>\n",
              "<tr>\n",
              "  <th>Method:</th>             <td>Least Squares</td>  <th>  F-statistic:       </th>  <td>1.908e+04</td> \n",
              "</tr>\n",
              "<tr>\n",
              "  <th>Date:</th>             <td>Fri, 07 Feb 2025</td> <th>  Prob (F-statistic):</th>   <td>  0.00</td>   \n",
              "</tr>\n",
              "<tr>\n",
              "  <th>Time:</th>                 <td>09:26:04</td>     <th>  Log-Likelihood:    </th> <td>-2.3120e+05</td>\n",
              "</tr>\n",
              "<tr>\n",
              "  <th>No. Observations:</th>      <td>100000</td>      <th>  AIC:               </th>  <td>4.624e+05</td> \n",
              "</tr>\n",
              "<tr>\n",
              "  <th>Df Residuals:</th>          <td> 99997</td>      <th>  BIC:               </th>  <td>4.624e+05</td> \n",
              "</tr>\n",
              "<tr>\n",
              "  <th>Df Model:</th>              <td>     2</td>      <th>                     </th>      <td> </td>     \n",
              "</tr>\n",
              "<tr>\n",
              "  <th>Covariance Type:</th>      <td>nonrobust</td>    <th>                     </th>      <td> </td>     \n",
              "</tr>\n",
              "</table>\n",
              "<table class=\"simpletable\">\n",
              "<tr>\n",
              "    <td></td>       <th>coef</th>     <th>std err</th>      <th>t</th>      <th>P>|t|</th>  <th>[0.025</th>    <th>0.975]</th>  \n",
              "</tr>\n",
              "<tr>\n",
              "  <th>const</th> <td>    0.0052</td> <td>    0.013</td> <td>    0.403</td> <td> 0.687</td> <td>   -0.020</td> <td>    0.030</td>\n",
              "</tr>\n",
              "<tr>\n",
              "  <th>X</th>     <td>   -0.4183</td> <td>    0.002</td> <td> -194.890</td> <td> 0.000</td> <td>   -0.423</td> <td>   -0.414</td>\n",
              "</tr>\n",
              "<tr>\n",
              "  <th>U</th>     <td>    0.2493</td> <td>    0.004</td> <td>   70.375</td> <td> 0.000</td> <td>    0.242</td> <td>    0.256</td>\n",
              "</tr>\n",
              "</table>\n",
              "<table class=\"simpletable\">\n",
              "<tr>\n",
              "  <th>Omnibus:</th>       <td> 0.033</td> <th>  Durbin-Watson:     </th> <td>   1.993</td>\n",
              "</tr>\n",
              "<tr>\n",
              "  <th>Prob(Omnibus):</th> <td> 0.984</td> <th>  Jarque-Bera (JB):  </th> <td>   0.035</td>\n",
              "</tr>\n",
              "<tr>\n",
              "  <th>Skew:</th>          <td> 0.001</td> <th>  Prob(JB):          </th> <td>   0.982</td>\n",
              "</tr>\n",
              "<tr>\n",
              "  <th>Kurtosis:</th>      <td> 2.998</td> <th>  Cond. No.          </th> <td>    9.31</td>\n",
              "</tr>\n",
              "</table><br/><br/>Notes:<br/>[1] Standard Errors assume that the covariance matrix of the errors is correctly specified."
            ],
            "text/latex": [
              "\\begin{center}\n",
              "\\begin{tabular}{lclc}\n",
              "\\toprule\n",
              "\\textbf{Dep. Variable:}    &        y         & \\textbf{  R-squared:         } &      0.276   \\\\\n",
              "\\textbf{Model:}            &       OLS        & \\textbf{  Adj. R-squared:    } &      0.276   \\\\\n",
              "\\textbf{Method:}           &  Least Squares   & \\textbf{  F-statistic:       } &  1.908e+04   \\\\\n",
              "\\textbf{Date:}             & Fri, 07 Feb 2025 & \\textbf{  Prob (F-statistic):} &      0.00    \\\\\n",
              "\\textbf{Time:}             &     09:26:04     & \\textbf{  Log-Likelihood:    } & -2.3120e+05  \\\\\n",
              "\\textbf{No. Observations:} &      100000      & \\textbf{  AIC:               } &  4.624e+05   \\\\\n",
              "\\textbf{Df Residuals:}     &       99997      & \\textbf{  BIC:               } &  4.624e+05   \\\\\n",
              "\\textbf{Df Model:}         &           2      & \\textbf{                     } &              \\\\\n",
              "\\textbf{Covariance Type:}  &    nonrobust     & \\textbf{                     } &              \\\\\n",
              "\\bottomrule\n",
              "\\end{tabular}\n",
              "\\begin{tabular}{lcccccc}\n",
              "               & \\textbf{coef} & \\textbf{std err} & \\textbf{t} & \\textbf{P$> |$t$|$} & \\textbf{[0.025} & \\textbf{0.975]}  \\\\\n",
              "\\midrule\n",
              "\\textbf{const} &       0.0052  &        0.013     &     0.403  &         0.687        &       -0.020    &        0.030     \\\\\n",
              "\\textbf{X}     &      -0.4183  &        0.002     &  -194.890  &         0.000        &       -0.423    &       -0.414     \\\\\n",
              "\\textbf{U}     &       0.2493  &        0.004     &    70.375  &         0.000        &        0.242    &        0.256     \\\\\n",
              "\\bottomrule\n",
              "\\end{tabular}\n",
              "\\begin{tabular}{lclc}\n",
              "\\textbf{Omnibus:}       &  0.033 & \\textbf{  Durbin-Watson:     } &    1.993  \\\\\n",
              "\\textbf{Prob(Omnibus):} &  0.984 & \\textbf{  Jarque-Bera (JB):  } &    0.035  \\\\\n",
              "\\textbf{Skew:}          &  0.001 & \\textbf{  Prob(JB):          } &    0.982  \\\\\n",
              "\\textbf{Kurtosis:}      &  2.998 & \\textbf{  Cond. No.          } &     9.31  \\\\\n",
              "\\bottomrule\n",
              "\\end{tabular}\n",
              "%\\caption{OLS Regression Results}\n",
              "\\end{center}\n",
              "\n",
              "Notes: \\newline\n",
              " [1] Standard Errors assume that the covariance matrix of the errors is correctly specified."
            ],
            "text/plain": [
              "<class 'statsmodels.iolib.summary.Summary'>\n",
              "\"\"\"\n",
              "                            OLS Regression Results                            \n",
              "==============================================================================\n",
              "Dep. Variable:                      y   R-squared:                       0.276\n",
              "Model:                            OLS   Adj. R-squared:                  0.276\n",
              "Method:                 Least Squares   F-statistic:                 1.908e+04\n",
              "Date:                Fri, 07 Feb 2025   Prob (F-statistic):               0.00\n",
              "Time:                        09:26:04   Log-Likelihood:            -2.3120e+05\n",
              "No. Observations:              100000   AIC:                         4.624e+05\n",
              "Df Residuals:                   99997   BIC:                         4.624e+05\n",
              "Df Model:                           2                                         \n",
              "Covariance Type:            nonrobust                                         \n",
              "==============================================================================\n",
              "                 coef    std err          t      P>|t|      [0.025      0.975]\n",
              "------------------------------------------------------------------------------\n",
              "const          0.0052      0.013      0.403      0.687      -0.020       0.030\n",
              "X             -0.4183      0.002   -194.890      0.000      -0.423      -0.414\n",
              "U              0.2493      0.004     70.375      0.000       0.242       0.256\n",
              "==============================================================================\n",
              "Omnibus:                        0.033   Durbin-Watson:                   1.993\n",
              "Prob(Omnibus):                  0.984   Jarque-Bera (JB):                0.035\n",
              "Skew:                           0.001   Prob(JB):                        0.982\n",
              "Kurtosis:                       2.998   Cond. No.                         9.31\n",
              "==============================================================================\n",
              "\n",
              "Notes:\n",
              "[1] Standard Errors assume that the covariance matrix of the errors is correctly specified.\n",
              "\"\"\""
            ]
          },
          "execution_count": 223,
          "metadata": {},
          "output_type": "execute_result"
        }
      ],
      "source": [
        "# Homegrown backdoor\n",
        "data = pd.DataFrame({'X': X, 'U': U})\n",
        "data = sm.add_constant(data, prepend=True)\n",
        "model_ols_backdoor = sm.OLS(Y, data) # Ordinary Linear Regression\n",
        "results = model_ols_backdoor.fit()\n",
        "results.summary()"
      ]
    },
    {
      "cell_type": "code",
      "execution_count": 224,
      "metadata": {
        "colab": {
          "base_uri": "https://localhost:8080/"
        },
        "id": "LuxNzTJhqk_4",
        "outputId": "cc805f97-f80c-4075-8b49-ccbc3e1d4dfc"
      },
      "outputs": [
        {
          "name": "stdout",
          "output_type": "stream",
          "text": [
            "Estimate of causal effect via backdoor (linear regression): -0.41830994715567127\n"
          ]
        }
      ],
      "source": [
        "estimate_backdoor = model.estimate_effect(\n",
        "    identified_estimand=estimand,\n",
        "    method_name='backdoor.linear_regression')\n",
        "\n",
        "print(f'Estimate of causal effect via backdoor (linear regression): {estimate_backdoor.value}')\n",
        "\n",
        "# QUESTION 4 -- How are the difference between OLS No Backdoor, OLS Backdoor, and DoWhy Backdoor"
      ]
    },
    {
      "cell_type": "code",
      "execution_count": 225,
      "metadata": {
        "colab": {
          "base_uri": "https://localhost:8080/"
        },
        "id": "oK2BlbJArYD0",
        "outputId": "e4c8d5b6-36c0-4509-ff28-7afd9a556b99"
      },
      "outputs": [
        {
          "name": "stderr",
          "output_type": "stream",
          "text": [
            "divide by zero encountered in scalar divide\n",
            "divide by zero encountered in scalar divide\n",
            "divide by zero encountered in scalar divide\n",
            "divide by zero encountered in scalar divide\n",
            "divide by zero encountered in scalar divide\n",
            "divide by zero encountered in scalar divide\n",
            "divide by zero encountered in scalar divide\n",
            "divide by zero encountered in scalar divide\n",
            "divide by zero encountered in scalar divide\n",
            "divide by zero encountered in scalar divide\n",
            "divide by zero encountered in scalar divide\n",
            "divide by zero encountered in scalar divide\n",
            "divide by zero encountered in scalar divide\n",
            "divide by zero encountered in scalar divide\n",
            "divide by zero encountered in scalar divide\n",
            "divide by zero encountered in scalar divide\n",
            "divide by zero encountered in scalar divide\n",
            "divide by zero encountered in scalar divide\n",
            "divide by zero encountered in scalar divide\n",
            "divide by zero encountered in scalar divide\n",
            "divide by zero encountered in scalar divide\n",
            "divide by zero encountered in scalar divide\n",
            "divide by zero encountered in scalar divide\n",
            "divide by zero encountered in scalar divide\n",
            "divide by zero encountered in scalar divide\n",
            "divide by zero encountered in scalar divide\n",
            "divide by zero encountered in scalar divide\n",
            "divide by zero encountered in scalar divide\n",
            "divide by zero encountered in scalar divide\n",
            "divide by zero encountered in scalar divide\n",
            "divide by zero encountered in scalar divide\n",
            "divide by zero encountered in scalar divide\n",
            "divide by zero encountered in scalar divide\n",
            "divide by zero encountered in scalar divide\n",
            "divide by zero encountered in scalar divide\n",
            "divide by zero encountered in scalar divide\n",
            "divide by zero encountered in scalar divide\n",
            "divide by zero encountered in scalar divide\n",
            "divide by zero encountered in scalar divide\n",
            "divide by zero encountered in scalar divide\n",
            "divide by zero encountered in scalar divide\n",
            "divide by zero encountered in scalar divide\n",
            "divide by zero encountered in scalar divide\n",
            "divide by zero encountered in scalar divide\n",
            "divide by zero encountered in scalar divide\n",
            "divide by zero encountered in scalar divide\n",
            "divide by zero encountered in scalar divide\n",
            "divide by zero encountered in scalar divide\n",
            "divide by zero encountered in scalar divide\n",
            "divide by zero encountered in scalar divide\n",
            "divide by zero encountered in scalar divide\n",
            "divide by zero encountered in scalar divide\n",
            "divide by zero encountered in scalar divide\n",
            "divide by zero encountered in scalar divide\n",
            "divide by zero encountered in scalar divide\n",
            "divide by zero encountered in scalar divide\n",
            "divide by zero encountered in scalar divide\n",
            "divide by zero encountered in scalar divide\n",
            "divide by zero encountered in scalar divide\n",
            "divide by zero encountered in scalar divide\n",
            "divide by zero encountered in scalar divide\n",
            "divide by zero encountered in scalar divide\n",
            "divide by zero encountered in scalar divide\n",
            "divide by zero encountered in scalar divide\n",
            "divide by zero encountered in scalar divide\n",
            "divide by zero encountered in scalar divide\n",
            "divide by zero encountered in scalar divide\n",
            "divide by zero encountered in scalar divide\n",
            "divide by zero encountered in scalar divide\n",
            "divide by zero encountered in scalar divide\n",
            "divide by zero encountered in scalar divide\n",
            "divide by zero encountered in scalar divide\n",
            "divide by zero encountered in scalar divide\n",
            "divide by zero encountered in scalar divide\n",
            "divide by zero encountered in scalar divide\n",
            "divide by zero encountered in scalar divide\n",
            "divide by zero encountered in scalar divide\n",
            "divide by zero encountered in scalar divide\n",
            "divide by zero encountered in scalar divide\n",
            "divide by zero encountered in scalar divide\n",
            "divide by zero encountered in scalar divide\n",
            "divide by zero encountered in scalar divide\n",
            "divide by zero encountered in scalar divide\n",
            "divide by zero encountered in scalar divide\n",
            "divide by zero encountered in scalar divide\n",
            "divide by zero encountered in scalar divide\n",
            "divide by zero encountered in scalar divide\n",
            "divide by zero encountered in scalar divide\n",
            "divide by zero encountered in scalar divide\n",
            "divide by zero encountered in scalar divide\n",
            "divide by zero encountered in scalar divide\n",
            "divide by zero encountered in scalar divide\n",
            "divide by zero encountered in scalar divide\n",
            "divide by zero encountered in scalar divide\n",
            "divide by zero encountered in scalar divide\n",
            "divide by zero encountered in scalar divide\n",
            "divide by zero encountered in scalar divide\n",
            "divide by zero encountered in scalar divide\n",
            "divide by zero encountered in scalar divide\n",
            "divide by zero encountered in scalar divide\n"
          ]
        }
      ],
      "source": [
        "refute_placebo = model.refute_estimate(\n",
        "    estimand=estimand,\n",
        "    estimate=estimate_backdoor,\n",
        "    method_name=\"placebo_treatment_refuter\")"
      ]
    },
    {
      "cell_type": "code",
      "execution_count": 226,
      "metadata": {
        "colab": {
          "base_uri": "https://localhost:8080/"
        },
        "id": "2vhF-KK4rlmU",
        "outputId": "d41cc6ee-a852-404f-ed3d-9034ca87e210"
      },
      "outputs": [
        {
          "name": "stdout",
          "output_type": "stream",
          "text": [
            "Refute: Use a Placebo Treatment\n",
            "Estimated effect:-0.41830994715567127\n",
            "New effect:0.0\n",
            "p value:1.0\n",
            "\n"
          ]
        }
      ],
      "source": [
        "print(refute_placebo)"
      ]
    },
    {
      "cell_type": "code",
      "execution_count": 227,
      "metadata": {
        "colab": {
          "base_uri": "https://localhost:8080/"
        },
        "id": "S3q2loscq7_b",
        "outputId": "d657a4e5-06f4-41e5-972a-2d19ff85e76b"
      },
      "outputs": [
        {
          "name": "stdout",
          "output_type": "stream",
          "text": [
            "Estimate of causal effect via IV: -0.4195813417533689\n"
          ]
        }
      ],
      "source": [
        "estimate_iv = model.estimate_effect(\n",
        "    identified_estimand=estimand,\n",
        "    method_name='iv.instrumental_variable')\n",
        "\n",
        "print(f'Estimate of causal effect via IV: {estimate_iv.value}')"
      ]
    },
    {
      "cell_type": "code",
      "execution_count": 228,
      "metadata": {
        "colab": {
          "base_uri": "https://localhost:8080/"
        },
        "id": "rnmWOdCjq9YB",
        "outputId": "4c241f37-f39d-4cc9-8945-165bfdd8c67c"
      },
      "outputs": [
        {
          "name": "stderr",
          "output_type": "stream",
          "text": [
            "A column-vector y was passed when a 1d array was expected. Please change the shape of y to (n_samples, ), for example using ravel().\n",
            "A column-vector y was passed when a 1d array was expected. Please change the shape of y to (n_samples, ), for example using ravel().\n"
          ]
        },
        {
          "name": "stdout",
          "output_type": "stream",
          "text": [
            "Estimate of causal effect (DML): -0.4176756347541162\n"
          ]
        }
      ],
      "source": [
        "from sklearn.linear_model import LassoCV\n",
        "from sklearn.ensemble import GradientBoostingRegressor\n",
        "\n",
        "estimate = model.estimate_effect(\n",
        "    identified_estimand=estimand,\n",
        "    method_name='backdoor.econml.dml.DML',\n",
        "    method_params={\n",
        "        'init_params': {\n",
        "            'model_y': GradientBoostingRegressor(),\n",
        "            'model_t': GradientBoostingRegressor(),\n",
        "            'model_final': LassoCV(fit_intercept=False),\n",
        "        },\n",
        "        'fit_params': {}}\n",
        ")\n",
        "\n",
        "print(f'Estimate of causal effect (DML): {estimate.value}')"
      ]
    },
    {
      "cell_type": "code",
      "execution_count": null,
      "metadata": {
        "id": "v_XBdmhtrU6G"
      },
      "outputs": [],
      "source": []
    }
  ],
  "metadata": {
    "colab": {
      "provenance": []
    },
    "kernelspec": {
      "display_name": "causality",
      "language": "python",
      "name": "python3"
    },
    "language_info": {
      "codemirror_mode": {
        "name": "ipython",
        "version": 3
      },
      "file_extension": ".py",
      "mimetype": "text/x-python",
      "name": "python",
      "nbconvert_exporter": "python",
      "pygments_lexer": "ipython3",
      "version": "3.10.16"
    }
  },
  "nbformat": 4,
  "nbformat_minor": 0
}
