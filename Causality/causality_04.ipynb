{
  "cells": [
    {
      "cell_type": "code",
      "execution_count": 2,
      "metadata": {
        "colab": {
          "base_uri": "https://localhost:8080/"
        },
        "id": "IDvhRF2ppccT",
        "outputId": "a8a33bfd-a343-489b-bebe-96b200522b52"
      },
      "outputs": [],
      "source": [
        "# !pip install dowhy gcastle"
      ]
    },
    {
      "cell_type": "code",
      "execution_count": 3,
      "metadata": {
        "id": "_TP1F3Y8p4vI"
      },
      "outputs": [],
      "source": [
        "import numpy as np\n",
        "import pandas as pd\n",
        "import networkx as nx\n",
        "import statsmodels.api as sm\n",
        "from dowhy import gcm\n",
        "from dowhy import CausalModel"
      ]
    },
    {
      "cell_type": "code",
      "execution_count": 4,
      "metadata": {
        "id": "ktQ3jqWwsEaz"
      },
      "outputs": [],
      "source": [
        "# Sample Data\n",
        "S = np.random.normal(loc=0.5, scale=1, size=2000)\n",
        "X = 2*S + np.random.normal(loc=0, scale=0.5, size=2000)\n",
        "Y = 3*S + 1.5*X + np.random.normal(loc=1,scale=0.5, size=2000)"
      ]
    },
    {
      "cell_type": "markdown",
      "metadata": {
        "id": "nl4-o7flvTvd"
      },
      "source": [
        "# Interventional calculation"
      ]
    },
    {
      "cell_type": "code",
      "execution_count": 5,
      "metadata": {
        "colab": {
          "base_uri": "https://localhost:8080/",
          "height": 473
        },
        "id": "3eGWyiF_sd9W",
        "outputId": "de744f11-f2f5-4d86-99c7-5ee61e3c717e"
      },
      "outputs": [
        {
          "data": {
            "text/html": [
              "<table class=\"simpletable\">\n",
              "<caption>OLS Regression Results</caption>\n",
              "<tr>\n",
              "  <th>Dep. Variable:</th>            <td>y</td>        <th>  R-squared:         </th> <td>   0.993</td> \n",
              "</tr>\n",
              "<tr>\n",
              "  <th>Model:</th>                   <td>OLS</td>       <th>  Adj. R-squared:    </th> <td>   0.993</td> \n",
              "</tr>\n",
              "<tr>\n",
              "  <th>Method:</th>             <td>Least Squares</td>  <th>  F-statistic:       </th> <td>1.446e+05</td>\n",
              "</tr>\n",
              "<tr>\n",
              "  <th>Date:</th>             <td>Wed, 26 Feb 2025</td> <th>  Prob (F-statistic):</th>  <td>  0.00</td>  \n",
              "</tr>\n",
              "<tr>\n",
              "  <th>Time:</th>                 <td>20:45:21</td>     <th>  Log-Likelihood:    </th> <td> -1467.0</td> \n",
              "</tr>\n",
              "<tr>\n",
              "  <th>No. Observations:</th>      <td>  2000</td>      <th>  AIC:               </th> <td>   2940.</td> \n",
              "</tr>\n",
              "<tr>\n",
              "  <th>Df Residuals:</th>          <td>  1997</td>      <th>  BIC:               </th> <td>   2957.</td> \n",
              "</tr>\n",
              "<tr>\n",
              "  <th>Df Model:</th>              <td>     2</td>      <th>                     </th>     <td> </td>    \n",
              "</tr>\n",
              "<tr>\n",
              "  <th>Covariance Type:</th>      <td>nonrobust</td>    <th>                     </th>     <td> </td>    \n",
              "</tr>\n",
              "</table>\n",
              "<table class=\"simpletable\">\n",
              "<tr>\n",
              "    <td></td>       <th>coef</th>     <th>std err</th>      <th>t</th>      <th>P>|t|</th>  <th>[0.025</th>    <th>0.975]</th>  \n",
              "</tr>\n",
              "<tr>\n",
              "  <th>const</th> <td>    0.9818</td> <td>    0.013</td> <td>   77.041</td> <td> 0.000</td> <td>    0.957</td> <td>    1.007</td>\n",
              "</tr>\n",
              "<tr>\n",
              "  <th>X</th>     <td>    1.4924</td> <td>    0.023</td> <td>   65.596</td> <td> 0.000</td> <td>    1.448</td> <td>    1.537</td>\n",
              "</tr>\n",
              "<tr>\n",
              "  <th>S</th>     <td>    3.0238</td> <td>    0.047</td> <td>   64.408</td> <td> 0.000</td> <td>    2.932</td> <td>    3.116</td>\n",
              "</tr>\n",
              "</table>\n",
              "<table class=\"simpletable\">\n",
              "<tr>\n",
              "  <th>Omnibus:</th>       <td> 4.548</td> <th>  Durbin-Watson:     </th> <td>   2.029</td>\n",
              "</tr>\n",
              "<tr>\n",
              "  <th>Prob(Omnibus):</th> <td> 0.103</td> <th>  Jarque-Bera (JB):  </th> <td>   4.512</td>\n",
              "</tr>\n",
              "<tr>\n",
              "  <th>Skew:</th>          <td>-0.116</td> <th>  Prob(JB):          </th> <td>   0.105</td>\n",
              "</tr>\n",
              "<tr>\n",
              "  <th>Kurtosis:</th>      <td> 3.018</td> <th>  Cond. No.          </th> <td>    12.0</td>\n",
              "</tr>\n",
              "</table><br/><br/>Notes:<br/>[1] Standard Errors assume that the covariance matrix of the errors is correctly specified."
            ],
            "text/latex": [
              "\\begin{center}\n",
              "\\begin{tabular}{lclc}\n",
              "\\toprule\n",
              "\\textbf{Dep. Variable:}    &        y         & \\textbf{  R-squared:         } &     0.993   \\\\\n",
              "\\textbf{Model:}            &       OLS        & \\textbf{  Adj. R-squared:    } &     0.993   \\\\\n",
              "\\textbf{Method:}           &  Least Squares   & \\textbf{  F-statistic:       } & 1.446e+05   \\\\\n",
              "\\textbf{Date:}             & Wed, 26 Feb 2025 & \\textbf{  Prob (F-statistic):} &     0.00    \\\\\n",
              "\\textbf{Time:}             &     20:45:21     & \\textbf{  Log-Likelihood:    } &   -1467.0   \\\\\n",
              "\\textbf{No. Observations:} &        2000      & \\textbf{  AIC:               } &     2940.   \\\\\n",
              "\\textbf{Df Residuals:}     &        1997      & \\textbf{  BIC:               } &     2957.   \\\\\n",
              "\\textbf{Df Model:}         &           2      & \\textbf{                     } &             \\\\\n",
              "\\textbf{Covariance Type:}  &    nonrobust     & \\textbf{                     } &             \\\\\n",
              "\\bottomrule\n",
              "\\end{tabular}\n",
              "\\begin{tabular}{lcccccc}\n",
              "               & \\textbf{coef} & \\textbf{std err} & \\textbf{t} & \\textbf{P$> |$t$|$} & \\textbf{[0.025} & \\textbf{0.975]}  \\\\\n",
              "\\midrule\n",
              "\\textbf{const} &       0.9818  &        0.013     &    77.041  &         0.000        &        0.957    &        1.007     \\\\\n",
              "\\textbf{X}     &       1.4924  &        0.023     &    65.596  &         0.000        &        1.448    &        1.537     \\\\\n",
              "\\textbf{S}     &       3.0238  &        0.047     &    64.408  &         0.000        &        2.932    &        3.116     \\\\\n",
              "\\bottomrule\n",
              "\\end{tabular}\n",
              "\\begin{tabular}{lclc}\n",
              "\\textbf{Omnibus:}       &  4.548 & \\textbf{  Durbin-Watson:     } &    2.029  \\\\\n",
              "\\textbf{Prob(Omnibus):} &  0.103 & \\textbf{  Jarque-Bera (JB):  } &    4.512  \\\\\n",
              "\\textbf{Skew:}          & -0.116 & \\textbf{  Prob(JB):          } &    0.105  \\\\\n",
              "\\textbf{Kurtosis:}      &  3.018 & \\textbf{  Cond. No.          } &     12.0  \\\\\n",
              "\\bottomrule\n",
              "\\end{tabular}\n",
              "%\\caption{OLS Regression Results}\n",
              "\\end{center}\n",
              "\n",
              "Notes: \\newline\n",
              " [1] Standard Errors assume that the covariance matrix of the errors is correctly specified."
            ],
            "text/plain": [
              "<class 'statsmodels.iolib.summary.Summary'>\n",
              "\"\"\"\n",
              "                            OLS Regression Results                            \n",
              "==============================================================================\n",
              "Dep. Variable:                      y   R-squared:                       0.993\n",
              "Model:                            OLS   Adj. R-squared:                  0.993\n",
              "Method:                 Least Squares   F-statistic:                 1.446e+05\n",
              "Date:                Wed, 26 Feb 2025   Prob (F-statistic):               0.00\n",
              "Time:                        20:45:21   Log-Likelihood:                -1467.0\n",
              "No. Observations:                2000   AIC:                             2940.\n",
              "Df Residuals:                    1997   BIC:                             2957.\n",
              "Df Model:                           2                                         \n",
              "Covariance Type:            nonrobust                                         \n",
              "==============================================================================\n",
              "                 coef    std err          t      P>|t|      [0.025      0.975]\n",
              "------------------------------------------------------------------------------\n",
              "const          0.9818      0.013     77.041      0.000       0.957       1.007\n",
              "X              1.4924      0.023     65.596      0.000       1.448       1.537\n",
              "S              3.0238      0.047     64.408      0.000       2.932       3.116\n",
              "==============================================================================\n",
              "Omnibus:                        4.548   Durbin-Watson:                   2.029\n",
              "Prob(Omnibus):                  0.103   Jarque-Bera (JB):                4.512\n",
              "Skew:                          -0.116   Prob(JB):                        0.105\n",
              "Kurtosis:                       3.018   Cond. No.                         12.0\n",
              "==============================================================================\n",
              "\n",
              "Notes:\n",
              "[1] Standard Errors assume that the covariance matrix of the errors is correctly specified.\n",
              "\"\"\""
            ]
          },
          "execution_count": 5,
          "metadata": {},
          "output_type": "execute_result"
        }
      ],
      "source": [
        "# Estimate causal effect using back-door criterion\n",
        "# S -> X -> Y\n",
        "#  \\-------^\n",
        "\n",
        "data = pd.DataFrame({'X': X, 'S': S})\n",
        "data = sm.add_constant(data, prepend=True)\n",
        "model = sm.OLS(Y, data) # Ordinary Linear Regression\n",
        "results = model.fit()\n",
        "results.summary()"
      ]
    },
    {
      "cell_type": "code",
      "execution_count": 6,
      "metadata": {
        "colab": {
          "base_uri": "https://localhost:8080/"
        },
        "id": "T9ymRXyhtQOb",
        "outputId": "9abe95e7-a1fd-4869-cc8e-62f3be397df6"
      },
      "outputs": [
        {
          "data": {
            "image/png": "[encoded data removed]",
            "text/latex": [
              "$\\displaystyle 4.06697676045894$"
            ],
            "text/plain": [
              "4.066976760458939"
            ]
          },
          "execution_count": 6,
          "metadata": {},
          "output_type": "execute_result"
        }
      ],
      "source": [
        "# Calculate P(Y|do(X=1))\n",
        "\n",
        "X1 = np.array([1.0]*len(X))\n",
        "Y1 = results.params['X']*X1 + results.params['S']*S + results.params['const']\n",
        "np.average(Y1)\n"
      ]
    },
    {
      "cell_type": "code",
      "execution_count": 28,
      "metadata": {
        "colab": {
          "base_uri": "https://localhost:8080/"
        },
        "id": "6_NMsIaqph9a",
        "outputId": "cba3f3c2-64e9-4543-bfcc-8221c8af7f50"
      },
      "outputs": [
        {
          "name": "stderr",
          "output_type": "stream",
          "text": [
            "Fitting causal mechanism of node S: 100%|██████████| 3/3 [00:00<00:00, 1332.94it/s]"
          ]
        },
        {
          "name": "stdout",
          "output_type": "stream",
          "text": [
            "4.088180829167435\n"
          ]
        },
        {
          "name": "stderr",
          "output_type": "stream",
          "text": [
            "\n"
          ]
        }
      ],
      "source": [
        "# Calculating Intervention using DoWhy GCM Model\n",
        "# https://www.pywhy.org/dowhy/v0.12/user_guide/causal_tasks/what_if/interventions.html\\\n",
        "# Hint: you can also use gcm.auto.assign_causal_mechanisms (see: https://www.pywhy.org/dowhy/v0.10.1/user_guide/modeling_gcm/draw_samples.html)\n",
        "\n",
        "# PROBLEM 1 IMPLEMENT INTERVENTION USING DoWHY GCM MODEL\n",
        "# [ YOUR CODE HERE ]\n",
        "graph = nx.DiGraph()\n",
        "graph.add_edge('X', 'Y')\n",
        "graph.add_edge('S', 'X')\n",
        "graph.add_edge('S', 'Y')\n",
        "data = pd.DataFrame({'X': X, 'S': S, 'Y': Y})\n",
        "# nx.draw(graph, with_labels=True)\n",
        "\n",
        "model = gcm.ProbabilisticCausalModel(graph)\n",
        "gcm.auto.assign_causal_mechanisms(model, data)\n",
        "gcm.fit(model, data)\n",
        "\n",
        "samples = gcm.interventional_samples(model, {'X': lambda x: 1}, num_samples_to_draw=1000)\n",
        "print(samples['Y'].mean())"
      ]
    },
    {
      "cell_type": "markdown",
      "metadata": {
        "id": "sOrsoCgJvWsR"
      },
      "source": [
        "# Counterfactual calculation"
      ]
    },
    {
      "cell_type": "code",
      "execution_count": 32,
      "metadata": {
        "colab": {
          "base_uri": "https://localhost:8080/",
          "height": 98
        },
        "id": "b0sh_5XnupRM",
        "outputId": "ef6ee221-5dbf-4eb0-fae2-d68cc8fac402"
      },
      "outputs": [
        {
          "name": "stderr",
          "output_type": "stream",
          "text": [
            "Fitting causal mechanism of node S: 100%|██████████| 3/3 [00:00<00:00, 999.99it/s]\n"
          ]
        },
        {
          "data": {
            "text/html": [
              "<div>\n",
              "<style scoped>\n",
              "    .dataframe tbody tr th:only-of-type {\n",
              "        vertical-align: middle;\n",
              "    }\n",
              "\n",
              "    .dataframe tbody tr th {\n",
              "        vertical-align: top;\n",
              "    }\n",
              "\n",
              "    .dataframe thead th {\n",
              "        text-align: right;\n",
              "    }\n",
              "</style>\n",
              "<table border=\"1\" class=\"dataframe\">\n",
              "  <thead>\n",
              "    <tr style=\"text-align: right;\">\n",
              "      <th></th>\n",
              "      <th>S</th>\n",
              "      <th>X</th>\n",
              "      <th>Y</th>\n",
              "    </tr>\n",
              "  </thead>\n",
              "  <tbody>\n",
              "    <tr>\n",
              "      <th>0</th>\n",
              "      <td>0.5</td>\n",
              "      <td>1</td>\n",
              "      <td>3.492418</td>\n",
              "    </tr>\n",
              "  </tbody>\n",
              "</table>\n",
              "</div>"
            ],
            "text/plain": [
              "     S  X         Y\n",
              "0  0.5  1  3.492418"
            ]
          },
          "execution_count": 32,
          "metadata": {},
          "output_type": "execute_result"
        }
      ],
      "source": [
        "data_gcm2 = pd.DataFrame({'X': X, 'S': S, 'Y': Y})\n",
        "causal_model2 = gcm.InvertibleStructuralCausalModel(nx.DiGraph([('X', 'Y'), ('S', 'X'), ('S', 'Y')]))\n",
        "gcm.auto.assign_causal_mechanisms(causal_model2, data_gcm2)\n",
        "gcm.fit(causal_model2, data_gcm2)\n",
        "\n",
        "gcm.counterfactual_samples(\n",
        "    causal_model2,\n",
        "    {'X': lambda x: 1},\n",
        "    observed_data=pd.DataFrame(data=dict(X=[0], Y=[2], S=[0.5])))"
      ]
    },
    {
      "cell_type": "markdown",
      "metadata": {
        "id": "6kueaRTBwDnD"
      },
      "source": [
        "# Causal Discovery"
      ]
    },
    {
      "cell_type": "code",
      "execution_count": 35,
      "metadata": {
        "id": "xL9PFtiyvBld"
      },
      "outputs": [
        {
          "name": "stderr",
          "output_type": "stream",
          "text": [
            "2025-02-26 21:39:06,891 - /home/andre/anaconda3/envs/causality/lib/python3.10/site-packages/castle/backend/__init__.py[line:36] - INFO: You can use `os.environ['CASTLE_BACKEND'] = backend` to set the backend(`pytorch` or `mindspore`).\n",
            "2025-02-26 21:39:06,900 - /home/andre/anaconda3/envs/causality/lib/python3.10/site-packages/castle/algorithms/__init__.py[line:36] - INFO: You are using ``pytorch`` as the backend.\n"
          ]
        }
      ],
      "source": [
        "from castle.algorithms import PC, ICALiNGAM"
      ]
    },
    {
      "cell_type": "code",
      "execution_count": 36,
      "metadata": {
        "id": "Les_ql7kwN-a"
      },
      "outputs": [],
      "source": [
        "pc = PC()\n",
        "pc_dataset = np.vstack([X, Y, S]).T\n",
        "pc.learn(pc_dataset)"
      ]
    },
    {
      "cell_type": "code",
      "execution_count": 40,
      "metadata": {
        "colab": {
          "base_uri": "https://localhost:8080/"
        },
        "id": "SQQM-MP9wosk",
        "outputId": "95aad64f-b4fc-4c56-9515-f29adef2e382"
      },
      "outputs": [
        {
          "data": {
            "text/plain": [
              "Tensor([[0, 1, 1],\n",
              "        [1, 0, 1],\n",
              "        [1, 1, 0]])"
            ]
          },
          "execution_count": 40,
          "metadata": {},
          "output_type": "execute_result"
        }
      ],
      "source": [
        "pc.causal_matrix\n",
        "\n",
        "# PROBLEM 2 - WHY IS THE CAUSAL METRIX ALMOST COMPLETE?\n",
        "# CAN YOU USE REFUTION TEST TO CHECK FOR CAUSALITY DIRECTION?\n",
        "# IMPLEMENT AND DISCUSS"
      ]
    },
    {
      "cell_type": "code",
      "execution_count": 70,
      "metadata": {},
      "outputs": [
        {
          "name": "stdout",
          "output_type": "stream",
          "text": [
            "XY\n",
            "[[0 1]\n",
            " [0 0]]\n",
            "\n",
            "XS\n",
            "[[0 0]\n",
            " [0 0]]\n",
            "\n",
            "YX\n",
            "[[0 0]\n",
            " [0 0]]\n",
            "\n",
            "YS\n",
            "[[0 0]\n",
            " [0 0]]\n",
            "\n",
            "SX\n",
            "[[0 1]\n",
            " [0 0]]\n",
            "\n",
            "SY\n",
            "[[0 1]\n",
            " [0 0]]\n",
            "\n"
          ]
        },
        {
          "name": "stderr",
          "output_type": "stream",
          "text": [
            "/home/andre/anaconda3/envs/causality/lib/python3.10/site-packages/sklearn/decomposition/_fastica.py:128: ConvergenceWarning: FastICA did not converge. Consider increasing tolerance or the maximum number of iterations.\n",
            "  warnings.warn(\n",
            "/home/andre/anaconda3/envs/causality/lib/python3.10/site-packages/sklearn/decomposition/_fastica.py:128: ConvergenceWarning: FastICA did not converge. Consider increasing tolerance or the maximum number of iterations.\n",
            "  warnings.warn(\n",
            "/home/andre/anaconda3/envs/causality/lib/python3.10/site-packages/sklearn/decomposition/_fastica.py:128: ConvergenceWarning: FastICA did not converge. Consider increasing tolerance or the maximum number of iterations.\n",
            "  warnings.warn(\n",
            "/home/andre/anaconda3/envs/causality/lib/python3.10/site-packages/sklearn/decomposition/_fastica.py:128: ConvergenceWarning: FastICA did not converge. Consider increasing tolerance or the maximum number of iterations.\n",
            "  warnings.warn(\n"
          ]
        }
      ],
      "source": [
        "g = ICALiNGAM(max_iter=1000, thresh=0.7)\n",
        "\n",
        "xys = [X, Y, S]\n",
        "name = 'XYS'\n",
        "def play(now, mk):\n",
        "    if len(now) == len(xys)-1:\n",
        "        a = []\n",
        "        n = \"\"\n",
        "        for i in range(len(xys)-1):\n",
        "            a.append(xys[now[i]])\n",
        "            n += name[now[i]]\n",
        "        dataset = np.vstack(a).T\n",
        "        # print(dataset.shape)\n",
        "        g.learn(dataset)\n",
        "        print(n)\n",
        "        print(g.causal_matrix)\n",
        "        print()\n",
        "        return\n",
        "    for i in range(len(xys)):\n",
        "        if mk[i] == 1:\n",
        "            continue\n",
        "        mk[i] = 1\n",
        "        play(now + [i], mk)\n",
        "        mk[i] = 0\n",
        "play([], [0, 0, 0])"
      ]
    },
    {
      "cell_type": "markdown",
      "metadata": {},
      "source": [
        "# Answer\n",
        "**ANS:** PC's matrix almost full because X, Y, S are all have a causal relationship with each other in some way but PC can't determine the direction of the edge so it'll show all possible edges between them (markov equivalence class).\n",
        "\n",
        "And by recuding the graph and test for all possible direction of each pair  of nodes, we can find the true causal relationship between them via ICA-Lingam algorithm (needed to increase threshold to overcome confusion between X and S)."
      ]
    },
    {
      "cell_type": "code",
      "execution_count": 37,
      "metadata": {
        "id": "tlQPt8Bbw0xQ"
      },
      "outputs": [],
      "source": [
        "N = 2000\n",
        "a = np.random.uniform(0, 1, N)\n",
        "b = np.random.uniform(3, 6, N)\n",
        "c = a + b + .1 * np.random.uniform(-2, 0, N)\n",
        "d = .7 * c + .1 * np.random.uniform(0, 1, N)\n",
        "lingam_dataset = np.vstack([a, b, c, d]).T"
      ]
    },
    {
      "cell_type": "code",
      "execution_count": 38,
      "metadata": {
        "id": "WJ87Cu_GxXUv"
      },
      "outputs": [],
      "source": [
        "lingam = ICALiNGAM(random_state=1)\n",
        "lingam.learn(lingam_dataset)"
      ]
    },
    {
      "cell_type": "code",
      "execution_count": 39,
      "metadata": {
        "colab": {
          "base_uri": "https://localhost:8080/"
        },
        "id": "kDNev53Txa9k",
        "outputId": "f9f2e85b-9149-4790-cfa5-ecb476105393"
      },
      "outputs": [
        {
          "data": {
            "text/plain": [
              "Tensor([[0.   , 0.   , 1.005, 0.   ],\n",
              "        [0.   , 0.   , 1.001, 0.   ],\n",
              "        [0.   , 0.   , 0.   , 0.701],\n",
              "        [0.   , 0.   , 0.   , 0.   ]])"
            ]
          },
          "execution_count": 39,
          "metadata": {},
          "output_type": "execute_result"
        }
      ],
      "source": [
        "lingam.weight_causal_matrix"
      ]
    },
    {
      "cell_type": "code",
      "execution_count": null,
      "metadata": {
        "id": "01AWN8bbxeLP"
      },
      "outputs": [],
      "source": []
    }
  ],
  "metadata": {
    "colab": {
      "provenance": []
    },
    "kernelspec": {
      "display_name": "causality",
      "language": "python",
      "name": "python3"
    },
    "language_info": {
      "codemirror_mode": {
        "name": "ipython",
        "version": 3
      },
      "file_extension": ".py",
      "mimetype": "text/x-python",
      "name": "python",
      "nbconvert_exporter": "python",
      "pygments_lexer": "ipython3",
      "version": "3.10.16"
    }
  },
  "nbformat": 4,
  "nbformat_minor": 0
}
