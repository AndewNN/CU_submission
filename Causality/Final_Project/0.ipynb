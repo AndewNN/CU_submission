{
 "cells": [
  {
   "cell_type": "code",
   "execution_count": 1,
   "metadata": {},
   "outputs": [],
   "source": [
    "import pandas as pd\n",
    "import numpy as np\n",
    "import statsmodels.api as sm\n",
    "import statsmodels.formula.api as smf\n",
    "\n",
    "# Example Data\n",
    "df = pd.DataFrame({\n",
    "    'fatel':   [1, 0, 0, 1, 0, 1, 0, 1, 0, 1],\n",
    "    'helmet':  [1, 1, 1, 0, 1, 0, 1, 0, 1, 0],\n",
    "    'alcohol': [0, 0, 0, 1, 0, 1, 0, 1, 0, 1],\n",
    "    'age':     [22, 19, 34, 45, 25, 28, 50, 31, 23, 40],\n",
    "})"
   ]
  },
  {
   "cell_type": "code",
   "execution_count": 2,
   "metadata": {},
   "outputs": [],
   "source": [
    "X = df[['alcohol', 'helmet', 'age']]\n",
    "X = sm.add_constant(X)\n",
    "y = df['fatel']"
   ]
  },
  {
   "cell_type": "code",
   "execution_count": 3,
   "metadata": {},
   "outputs": [
    {
     "name": "stdout",
     "output_type": "stream",
     "text": [
      "                            OLS Regression Results                            \n",
      "==============================================================================\n",
      "Dep. Variable:                  fatel   R-squared:                       0.689\n",
      "Model:                            OLS   Adj. R-squared:                  0.600\n",
      "Method:                 Least Squares   F-statistic:                     7.738\n",
      "Date:                Sat, 17 May 2025   Prob (F-statistic):             0.0169\n",
      "Time:                        01:46:01   Log-Likelihood:                -1.4250\n",
      "No. Observations:                  10   AIC:                             8.850\n",
      "Df Residuals:                       7   BIC:                             9.758\n",
      "Df Model:                           2                                         \n",
      "Covariance Type:            nonrobust                                         \n",
      "==============================================================================\n",
      "                 coef    std err          t      P>|t|      [0.025      0.975]\n",
      "------------------------------------------------------------------------------\n",
      "const          0.5620      0.257      2.187      0.065      -0.046       1.170\n",
      "alcohol        0.7264      0.204      3.569      0.009       0.245       1.208\n",
      "helmet        -0.1644      0.135     -1.221      0.262      -0.483       0.154\n",
      "age           -0.0080      0.011     -0.702      0.506      -0.035       0.019\n",
      "==============================================================================\n",
      "Omnibus:                       18.793   Durbin-Watson:                   1.656\n",
      "Prob(Omnibus):                  0.000   Jarque-Bera (JB):               11.000\n",
      "Skew:                           2.016   Prob(JB):                      0.00409\n",
      "Kurtosis:                       6.186   Cond. No.                     1.82e+17\n",
      "==============================================================================\n",
      "\n",
      "Notes:\n",
      "[1] Standard Errors assume that the covariance matrix of the errors is correctly specified.\n",
      "[2] The smallest eigenvalue is 3.33e-31. This might indicate that there are\n",
      "strong multicollinearity problems or that the design matrix is singular.\n"
     ]
    },
    {
     "name": "stderr",
     "output_type": "stream",
     "text": [
      "/home/andre/anaconda3/envs/causality/lib/python3.10/site-packages/scipy/stats/_axis_nan_policy.py:430: UserWarning: `kurtosistest` p-value may be inaccurate with fewer than 20 observations; only n=10 observations were given.\n",
      "  return hypotest_fun_in(*args, **kwds)\n"
     ]
    }
   ],
   "source": [
    "model = sm.OLS(y, X).fit()\n",
    "print(model.summary())"
   ]
  },
  {
   "cell_type": "code",
   "execution_count": 12,
   "metadata": {},
   "outputs": [
    {
     "name": "stdout",
     "output_type": "stream",
     "text": [
      "Warning: Maximum number of iterations has been exceeded.\n",
      "         Current function value: 0.230037\n",
      "         Iterations: 35\n",
      "                           Logit Regression Results                           \n",
      "==============================================================================\n",
      "Dep. Variable:                  fatel   No. Observations:                   10\n",
      "Model:                          Logit   Df Residuals:                        7\n",
      "Method:                           MLE   Df Model:                            2\n",
      "Date:                Sat, 17 May 2025   Pseudo R-squ.:                  0.6681\n",
      "Time:                        01:55:04   Log-Likelihood:                -2.3004\n",
      "converged:                      False   LL-Null:                       -6.9315\n",
      "Covariance Type:            nonrobust   LLR p-value:                  0.009744\n",
      "==============================================================================\n",
      "                 coef    std err          z      P>|z|      [0.025      0.975]\n",
      "------------------------------------------------------------------------------\n",
      "Intercept     11.3689        nan        nan        nan         nan         nan\n",
      "alcohol       19.6736        nan        nan        nan         nan         nan\n",
      "helmet        -8.3048        nan        nan        nan         nan         nan\n",
      "age           -0.1910      0.336     -0.569      0.569      -0.849       0.467\n",
      "==============================================================================\n",
      "\n",
      "Possibly complete quasi-separation: A fraction 0.40 of observations can be\n",
      "perfectly predicted. This might indicate that there is complete\n",
      "quasi-separation. In this case some parameters will not be identified.\n"
     ]
    },
    {
     "name": "stderr",
     "output_type": "stream",
     "text": [
      "/home/andre/anaconda3/envs/causality/lib/python3.10/site-packages/statsmodels/base/model.py:607: ConvergenceWarning: Maximum Likelihood optimization failed to converge. Check mle_retvals\n",
      "  warnings.warn(\"Maximum Likelihood optimization failed to \"\n"
     ]
    }
   ],
   "source": [
    "model = smf.logit('fatel ~ alcohol + helmet + age', data=df).fit()\n",
    "print(model.summary())"
   ]
  },
  {
   "cell_type": "code",
   "execution_count": 29,
   "metadata": {},
   "outputs": [
    {
     "name": "stdout",
     "output_type": "stream",
     "text": [
      "   fatel    vehicle_type  helmet  age\n",
      "0      0     จักรยานยนต์       0   63\n",
      "1      1  รถเก๋ง/แท็กซี่       1   11\n",
      "2      0           รถตู้       1   53\n",
      "3      1           รถตู้       1   10\n",
      "4      1        รถบรรทุก       0   45\n",
      "Index(['fatel', 'vehicle_type', 'helmet', 'age'], dtype='object')\n"
     ]
    }
   ],
   "source": [
    "vehicle_types = ['รถเก๋ง/แท็กซี่', 'จักรยานยนต์', 'ปิคอัพ', 'รถตู้', 'รถโดยสารใหญ่',\n",
    "                 'รถบรรทุก', 'สามล้อเครื่อง', 'รถจักรยาน', 'อื่นๆ']\n",
    "\n",
    "# vehicle_types = [i for i in range(len(vehicle_types))]\n",
    "\n",
    "# Simulate 200 rows\n",
    "n = 200\n",
    "df_mock = pd.DataFrame({\n",
    "    'fatel': np.random.binomial(1, 0.3, size=n),  # 0 = survived, 1 = died\n",
    "    'vehicle_type': np.random.choice(vehicle_types, size=n, p=[0.25, 0.25, 0.15, 0.1, 0.05, 0.05, 0.05, 0.05, 0.05]),\n",
    "    'helmet': np.random.binomial(1, 0.6, size=n),  # 1 = wore helmet\n",
    "    'age': np.random.randint(10, 70, size=n)\n",
    "})\n",
    "print(df_mock.head())\n",
    "print(df_mock.columns)"
   ]
  },
  {
   "cell_type": "code",
   "execution_count": 30,
   "metadata": {},
   "outputs": [
    {
     "name": "stdout",
     "output_type": "stream",
     "text": [
      "Optimization terminated successfully.\n",
      "         Current function value: 0.538221\n",
      "         Iterations 6\n",
      "                           Logit Regression Results                           \n",
      "==============================================================================\n",
      "Dep. Variable:                  fatel   No. Observations:                  200\n",
      "Model:                          Logit   Df Residuals:                      189\n",
      "Method:                           MLE   Df Model:                           10\n",
      "Date:                Sat, 17 May 2025   Pseudo R-squ.:                 0.06079\n",
      "Time:                        02:20:10   Log-Likelihood:                -107.64\n",
      "converged:                       True   LL-Null:                       -114.61\n",
      "Covariance Type:            nonrobust   LLR p-value:                    0.1760\n",
      "=====================================================================================================\n",
      "                                        coef    std err          z      P>|z|      [0.025      0.975]\n",
      "-----------------------------------------------------------------------------------------------------\n",
      "Intercept                            -0.4078      0.484     -0.843      0.399      -1.356       0.541\n",
      "C(vehicle_type)[T.ปิคอัพ]             0.3681      0.515      0.714      0.475      -0.642       1.378\n",
      "C(vehicle_type)[T.รถจักรยาน]         -0.8140      1.136     -0.717      0.474      -3.040       1.412\n",
      "C(vehicle_type)[T.รถตู้]             -0.4392      0.588     -0.748      0.455      -1.591       0.712\n",
      "C(vehicle_type)[T.รถบรรทุก]          -0.8313      0.827     -1.005      0.315      -2.452       0.790\n",
      "C(vehicle_type)[T.รถเก๋ง/แท็กซี่]    -0.7521      0.483     -1.557      0.120      -1.699       0.195\n",
      "C(vehicle_type)[T.รถโดยสารใหญ่]      -0.5934      0.720     -0.825      0.410      -2.004       0.817\n",
      "C(vehicle_type)[T.สามล้อเครื่อง]     -0.6290      0.840     -0.749      0.454      -2.275       1.017\n",
      "C(vehicle_type)[T.อื่นๆ]              2.2872      1.170      1.955      0.051      -0.006       4.580\n",
      "helmet                               -0.2592      0.343     -0.755      0.450      -0.932       0.414\n",
      "age                                  -0.0069      0.010     -0.704      0.482      -0.026       0.012\n",
      "=====================================================================================================\n"
     ]
    }
   ],
   "source": [
    "model = smf.logit('fatel ~ helmet + age + C(vehicle_type)', data=df_mock).fit()\n",
    "print(model.summary())"
   ]
  }
 ],
 "metadata": {
  "kernelspec": {
   "display_name": "causality",
   "language": "python",
   "name": "python3"
  },
  "language_info": {
   "codemirror_mode": {
    "name": "ipython",
    "version": 3
   },
   "file_extension": ".py",
   "mimetype": "text/x-python",
   "name": "python",
   "nbconvert_exporter": "python",
   "pygments_lexer": "ipython3",
   "version": "3.10.16"
  }
 },
 "nbformat": 4,
 "nbformat_minor": 2
}
