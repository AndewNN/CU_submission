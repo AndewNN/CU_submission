{
  "cells": [
    {
      "cell_type": "markdown",
      "metadata": {
        "id": "VQ8FRFIYMc5X"
      },
      "source": [
        "# HOMEWORK 6: TEXT CLASSIFICATION\n",
        "In this homework, you will create models to classify texts from TRUE call-center. There are two classification tasks:\n",
        "1. Action Classification: Identify which action the customer would like to take (e.g. enquire, report, cancle)\n",
        "2. Object Classification: Identify which object the customer is referring to (e.g. payment, truemoney, internet, roaming)\n",
        "\n",
        "We will focus only on the Object Classification task for this homework.\n",
        "\n",
        "In this homework, you are asked compare different text classification models in terms of accuracy and inference time.\n",
        "\n",
        "You will need to build 3 different models.\n",
        "\n",
        "1. A model based on tf-idf\n",
        "2. A model based on MUSE\n",
        "3. A model based on wangchanBERTa\n",
        "\n",
        "**You will be ask to submit 3 different files (.pdf from .ipynb) that does the 3 different models. Finally, answer the accuracy and runtime numbers in MCV.**\n",
        "\n",
        "This homework is quite free form, and your answer may vary. We hope that the processing during the course of this assignment will make you think more about the design choices in text classification."
      ]
    },
    {
      "cell_type": "code",
      "execution_count": 1,
      "metadata": {
        "colab": {
          "base_uri": "https://localhost:8080/"
        },
        "id": "kHqkFSyaNvOt",
        "outputId": "879b17f1-0fb2-455c-ca37-b5a4aecd7b1c"
      },
      "outputs": [],
      "source": [
        "# !wget --no-check-certificate https://www.dropbox.com/s/37u83g55p19kvrl/clean-phone-data-for-students.csv"
      ]
    },
    {
      "cell_type": "code",
      "execution_count": 2,
      "metadata": {
        "colab": {
          "base_uri": "https://localhost:8080/"
        },
        "id": "qRlx5Mb5zkXw",
        "outputId": "18d913e0-aa6d-435b-931d-591386cb4ba8"
      },
      "outputs": [],
      "source": [
        "# !pip install pythainlp"
      ]
    },
    {
      "cell_type": "markdown",
      "metadata": {
        "id": "2YprqbOPMc5a"
      },
      "source": [
        "## Import Libs"
      ]
    },
    {
      "cell_type": "code",
      "execution_count": 3,
      "metadata": {
        "id": "heICP79cMc5e"
      },
      "outputs": [],
      "source": [
        "%matplotlib inline\n",
        "import pandas\n",
        "import sklearn\n",
        "import numpy as np\n",
        "import matplotlib.pyplot as plt\n",
        "import pandas as pd\n",
        "\n",
        "from torch.utils.data import Dataset\n",
        "from IPython.display import display\n",
        "from collections import defaultdict\n",
        "from sklearn.metrics import accuracy_score"
      ]
    },
    {
      "cell_type": "markdown",
      "metadata": {
        "id": "GPaUf4PLMc5k"
      },
      "source": [
        "## Loading data\n",
        "First, we load the data from disk into a Dataframe.\n",
        "\n",
        "A Dataframe is essentially a table, or 2D-array/Matrix with a name for each column."
      ]
    },
    {
      "cell_type": "code",
      "execution_count": 4,
      "metadata": {
        "id": "JhZ2eBAWMc5l"
      },
      "outputs": [],
      "source": [
        "data_df = pd.read_csv('clean-phone-data-for-students.csv')"
      ]
    },
    {
      "cell_type": "markdown",
      "metadata": {
        "id": "cje3yruTMc5p"
      },
      "source": [
        "Let's preview the data."
      ]
    },
    {
      "cell_type": "code",
      "execution_count": 5,
      "metadata": {
        "colab": {
          "base_uri": "https://localhost:8080/",
          "height": 364
        },
        "id": "aNqRNz1PMc5q",
        "outputId": "e129a502-1420-476c-dc50-46c293a01b56"
      },
      "outputs": [
        {
          "data": {
            "text/html": [
              "<div>\n",
              "<style scoped>\n",
              "    .dataframe tbody tr th:only-of-type {\n",
              "        vertical-align: middle;\n",
              "    }\n",
              "\n",
              "    .dataframe tbody tr th {\n",
              "        vertical-align: top;\n",
              "    }\n",
              "\n",
              "    .dataframe thead th {\n",
              "        text-align: right;\n",
              "    }\n",
              "</style>\n",
              "<table border=\"1\" class=\"dataframe\">\n",
              "  <thead>\n",
              "    <tr style=\"text-align: right;\">\n",
              "      <th></th>\n",
              "      <th>Sentence Utterance</th>\n",
              "      <th>Action</th>\n",
              "      <th>Object</th>\n",
              "    </tr>\n",
              "  </thead>\n",
              "  <tbody>\n",
              "    <tr>\n",
              "      <th>0</th>\n",
              "      <td>&lt;PHONE_NUMBER_REMOVED&gt; ผมไปจ่ายเงินที่ Counte...</td>\n",
              "      <td>enquire</td>\n",
              "      <td>payment</td>\n",
              "    </tr>\n",
              "    <tr>\n",
              "      <th>1</th>\n",
              "      <td>internet ยังความเร็วอยุ่เท่าไหร ครับ</td>\n",
              "      <td>enquire</td>\n",
              "      <td>package</td>\n",
              "    </tr>\n",
              "    <tr>\n",
              "      <th>2</th>\n",
              "      <td>ตะกี้ไปชำระค่าบริการไปแล้ว แต่ยังใช้งานไม่ได้...</td>\n",
              "      <td>report</td>\n",
              "      <td>suspend</td>\n",
              "    </tr>\n",
              "    <tr>\n",
              "      <th>3</th>\n",
              "      <td>พี่ค่ะยังใช้ internet ไม่ได้เลยค่ะ เป็นเครื่อ...</td>\n",
              "      <td>enquire</td>\n",
              "      <td>internet</td>\n",
              "    </tr>\n",
              "    <tr>\n",
              "      <th>4</th>\n",
              "      <td>ฮาโหล คะ พอดีว่าเมื่อวานเปิดซิมทรูมูฟ แต่มันโ...</td>\n",
              "      <td>report</td>\n",
              "      <td>phone_issues</td>\n",
              "    </tr>\n",
              "  </tbody>\n",
              "</table>\n",
              "</div>"
            ],
            "text/plain": [
              "                                  Sentence Utterance   Action        Object\n",
              "0   <PHONE_NUMBER_REMOVED> ผมไปจ่ายเงินที่ Counte...  enquire       payment\n",
              "1               internet ยังความเร็วอยุ่เท่าไหร ครับ  enquire       package\n",
              "2   ตะกี้ไปชำระค่าบริการไปแล้ว แต่ยังใช้งานไม่ได้...   report       suspend\n",
              "3   พี่ค่ะยังใช้ internet ไม่ได้เลยค่ะ เป็นเครื่อ...  enquire      internet\n",
              "4   ฮาโหล คะ พอดีว่าเมื่อวานเปิดซิมทรูมูฟ แต่มันโ...   report  phone_issues"
            ]
          },
          "metadata": {},
          "output_type": "display_data"
        },
        {
          "data": {
            "text/html": [
              "<div>\n",
              "<style scoped>\n",
              "    .dataframe tbody tr th:only-of-type {\n",
              "        vertical-align: middle;\n",
              "    }\n",
              "\n",
              "    .dataframe tbody tr th {\n",
              "        vertical-align: top;\n",
              "    }\n",
              "\n",
              "    .dataframe thead th {\n",
              "        text-align: right;\n",
              "    }\n",
              "</style>\n",
              "<table border=\"1\" class=\"dataframe\">\n",
              "  <thead>\n",
              "    <tr style=\"text-align: right;\">\n",
              "      <th></th>\n",
              "      <th>Sentence Utterance</th>\n",
              "      <th>Action</th>\n",
              "      <th>Object</th>\n",
              "    </tr>\n",
              "  </thead>\n",
              "  <tbody>\n",
              "    <tr>\n",
              "      <th>count</th>\n",
              "      <td>16175</td>\n",
              "      <td>16175</td>\n",
              "      <td>16175</td>\n",
              "    </tr>\n",
              "    <tr>\n",
              "      <th>unique</th>\n",
              "      <td>13389</td>\n",
              "      <td>10</td>\n",
              "      <td>33</td>\n",
              "    </tr>\n",
              "    <tr>\n",
              "      <th>top</th>\n",
              "      <td>บริการอื่นๆ</td>\n",
              "      <td>enquire</td>\n",
              "      <td>service</td>\n",
              "    </tr>\n",
              "    <tr>\n",
              "      <th>freq</th>\n",
              "      <td>97</td>\n",
              "      <td>10377</td>\n",
              "      <td>2525</td>\n",
              "    </tr>\n",
              "  </tbody>\n",
              "</table>\n",
              "</div>"
            ],
            "text/plain": [
              "       Sentence Utterance   Action   Object\n",
              "count               16175    16175    16175\n",
              "unique              13389       10       33\n",
              "top           บริการอื่นๆ  enquire  service\n",
              "freq                   97    10377     2525"
            ]
          },
          "execution_count": 5,
          "metadata": {},
          "output_type": "execute_result"
        }
      ],
      "source": [
        "# Show the top 5 rows\n",
        "display(data_df.head())\n",
        "# Summarize the data\n",
        "data_df.describe()"
      ]
    },
    {
      "cell_type": "markdown",
      "metadata": {
        "id": "jGd8BNvMMc5y"
      },
      "source": [
        "## Data cleaning\n",
        "\n",
        "We call the DataFrame.describe() again.\n",
        "Notice that there are 33 unique labels/classes for object and 10 unique labels for action that the model will try to predict.\n",
        "But there are unwanted duplications e.g. Idd,idd,lotalty_card,Lotalty_card\n",
        "\n",
        "Also note that, there are 13389 unqiue sentence utterances from 16175 utterances. You have to clean that too!\n",
        "\n",
        "## #TODO 0.1:\n",
        "You will have to remove unwanted label duplications as well as duplications in text inputs.\n",
        "Also, you will have to trim out unwanted whitespaces from the text inputs.\n",
        "This shouldn't be too hard, as you have already seen it in the demo.\n",
        "\n"
      ]
    },
    {
      "cell_type": "code",
      "execution_count": 6,
      "metadata": {
        "colab": {
          "base_uri": "https://localhost:8080/",
          "height": 331
        },
        "id": "V0bGLblVMc5z",
        "outputId": "1a65aff5-6196-4674-fb5d-36aa1afcfdba"
      },
      "outputs": [
        {
          "data": {
            "text/html": [
              "<div>\n",
              "<style scoped>\n",
              "    .dataframe tbody tr th:only-of-type {\n",
              "        vertical-align: middle;\n",
              "    }\n",
              "\n",
              "    .dataframe tbody tr th {\n",
              "        vertical-align: top;\n",
              "    }\n",
              "\n",
              "    .dataframe thead th {\n",
              "        text-align: right;\n",
              "    }\n",
              "</style>\n",
              "<table border=\"1\" class=\"dataframe\">\n",
              "  <thead>\n",
              "    <tr style=\"text-align: right;\">\n",
              "      <th></th>\n",
              "      <th>Sentence Utterance</th>\n",
              "      <th>Action</th>\n",
              "      <th>Object</th>\n",
              "    </tr>\n",
              "  </thead>\n",
              "  <tbody>\n",
              "    <tr>\n",
              "      <th>count</th>\n",
              "      <td>16175</td>\n",
              "      <td>16175</td>\n",
              "      <td>16175</td>\n",
              "    </tr>\n",
              "    <tr>\n",
              "      <th>unique</th>\n",
              "      <td>13389</td>\n",
              "      <td>10</td>\n",
              "      <td>33</td>\n",
              "    </tr>\n",
              "    <tr>\n",
              "      <th>top</th>\n",
              "      <td>บริการอื่นๆ</td>\n",
              "      <td>enquire</td>\n",
              "      <td>service</td>\n",
              "    </tr>\n",
              "    <tr>\n",
              "      <th>freq</th>\n",
              "      <td>97</td>\n",
              "      <td>10377</td>\n",
              "      <td>2525</td>\n",
              "    </tr>\n",
              "  </tbody>\n",
              "</table>\n",
              "</div>"
            ],
            "text/plain": [
              "       Sentence Utterance   Action   Object\n",
              "count               16175    16175    16175\n",
              "unique              13389       10       33\n",
              "top           บริการอื่นๆ  enquire  service\n",
              "freq                   97    10377     2525"
            ]
          },
          "metadata": {},
          "output_type": "display_data"
        },
        {
          "data": {
            "text/plain": [
              "array(['payment', 'package', 'suspend', 'internet', 'phone_issues',\n",
              "       'service', 'nonTrueMove', 'balance', 'detail', 'bill', 'credit',\n",
              "       'promotion', 'mobile_setting', 'iservice', 'roaming', 'truemoney',\n",
              "       'information', 'lost_stolen', 'balance_minutes', 'idd',\n",
              "       'TrueMoney', 'garbage', 'Payment', 'IDD', 'ringtone', 'Idd',\n",
              "       'rate', 'loyalty_card', 'contact', 'officer', 'Balance', 'Service',\n",
              "       'Loyalty_card'], dtype=object)"
            ]
          },
          "metadata": {},
          "output_type": "display_data"
        },
        {
          "data": {
            "text/plain": [
              "array(['enquire', 'report', 'cancel', 'Enquire', 'buy', 'activate',\n",
              "       'request', 'Report', 'garbage', 'change'], dtype=object)"
            ]
          },
          "metadata": {},
          "output_type": "display_data"
        }
      ],
      "source": [
        "display(data_df.describe())\n",
        "display(data_df.Object.unique())\n",
        "display(data_df.Action.unique())"
      ]
    },
    {
      "cell_type": "code",
      "execution_count": 7,
      "metadata": {
        "id": "19onNNUZMc54"
      },
      "outputs": [
        {
          "data": {
            "text/html": [
              "<div>\n",
              "<style scoped>\n",
              "    .dataframe tbody tr th:only-of-type {\n",
              "        vertical-align: middle;\n",
              "    }\n",
              "\n",
              "    .dataframe tbody tr th {\n",
              "        vertical-align: top;\n",
              "    }\n",
              "\n",
              "    .dataframe thead th {\n",
              "        text-align: right;\n",
              "    }\n",
              "</style>\n",
              "<table border=\"1\" class=\"dataframe\">\n",
              "  <thead>\n",
              "    <tr style=\"text-align: right;\">\n",
              "      <th></th>\n",
              "      <th>clean Sentence Utterance</th>\n",
              "      <th>clean Object</th>\n",
              "    </tr>\n",
              "  </thead>\n",
              "  <tbody>\n",
              "    <tr>\n",
              "      <th>count</th>\n",
              "      <td>13367</td>\n",
              "      <td>13367</td>\n",
              "    </tr>\n",
              "    <tr>\n",
              "      <th>unique</th>\n",
              "      <td>13367</td>\n",
              "      <td>26</td>\n",
              "    </tr>\n",
              "    <tr>\n",
              "      <th>top</th>\n",
              "      <td>สอบถามโปรโมชั่นปัจจุบันที่ใช้อยู่ค่ะ</td>\n",
              "      <td>service</td>\n",
              "    </tr>\n",
              "    <tr>\n",
              "      <th>freq</th>\n",
              "      <td>1</td>\n",
              "      <td>2108</td>\n",
              "    </tr>\n",
              "  </tbody>\n",
              "</table>\n",
              "</div>"
            ],
            "text/plain": [
              "                    clean Sentence Utterance clean Object\n",
              "count                                  13367        13367\n",
              "unique                                 13367           26\n",
              "top     สอบถามโปรโมชั่นปัจจุบันที่ใช้อยู่ค่ะ      service\n",
              "freq                                       1         2108"
            ]
          },
          "execution_count": 7,
          "metadata": {},
          "output_type": "execute_result"
        }
      ],
      "source": [
        "# TODO.1: Data cleaning\n",
        "data_df['clean Sentence Utterance'] = data_df['Sentence Utterance'].str.strip().copy()\n",
        "# data_df['clean Action'] = data_df['Action'].str.lower().copy()\n",
        "data_df['clean Object'] = data_df['Object'].str.lower().copy()\n",
        "\n",
        "# data_df.drop_duplicates(\"Sentence Utterance\", keep=\"first\", inplace=True)\n",
        "data_df.drop_duplicates(\"clean Sentence Utterance\", keep=\"first\", inplace=True)\n",
        "\n",
        "data_df.drop('Sentence Utterance', axis=1, inplace=True)\n",
        "data_df.drop('Action', axis=1, inplace=True)\n",
        "data_df.drop('Object', axis=1, inplace=True)\n",
        "\n",
        "\n",
        "data_df.describe()\n",
        "\n",
        "# idx = 1\n",
        "# print(f'\"{data_df[\"Sentence Utterance\"][idx]}\"')\n",
        "# print(f'\"{data_df[\"clean Sentence Utterance\"][idx]}\"')\n"
      ]
    },
    {
      "cell_type": "code",
      "execution_count": 8,
      "metadata": {},
      "outputs": [
        {
          "data": {
            "text/plain": [
              "{'payment': 0,\n",
              " 'package': 1,\n",
              " 'suspend': 2,\n",
              " 'internet': 3,\n",
              " 'phone_issues': 4,\n",
              " 'service': 5,\n",
              " 'nontruemove': 6,\n",
              " 'balance': 7,\n",
              " 'detail': 8,\n",
              " 'bill': 9,\n",
              " 'credit': 10,\n",
              " 'promotion': 11,\n",
              " 'mobile_setting': 12,\n",
              " 'iservice': 13,\n",
              " 'roaming': 14,\n",
              " 'truemoney': 15,\n",
              " 'information': 16,\n",
              " 'lost_stolen': 17,\n",
              " 'balance_minutes': 18,\n",
              " 'idd': 19,\n",
              " 'garbage': 20,\n",
              " 'ringtone': 21,\n",
              " 'rate': 22,\n",
              " 'loyalty_card': 23,\n",
              " 'contact': 24,\n",
              " 'officer': 25}"
            ]
          },
          "metadata": {},
          "output_type": "display_data"
        },
        {
          "data": {
            "text/plain": [
              "{0: 'payment',\n",
              " 1: 'package',\n",
              " 2: 'suspend',\n",
              " 3: 'internet',\n",
              " 4: 'phone_issues',\n",
              " 5: 'service',\n",
              " 6: 'nontruemove',\n",
              " 7: 'balance',\n",
              " 8: 'detail',\n",
              " 9: 'bill',\n",
              " 10: 'credit',\n",
              " 11: 'promotion',\n",
              " 12: 'mobile_setting',\n",
              " 13: 'iservice',\n",
              " 14: 'roaming',\n",
              " 15: 'truemoney',\n",
              " 16: 'information',\n",
              " 17: 'lost_stolen',\n",
              " 18: 'balance_minutes',\n",
              " 19: 'idd',\n",
              " 20: 'garbage',\n",
              " 21: 'ringtone',\n",
              " 22: 'rate',\n",
              " 23: 'loyalty_card',\n",
              " 24: 'contact',\n",
              " 25: 'officer'}"
            ]
          },
          "metadata": {},
          "output_type": "display_data"
        },
        {
          "data": {
            "text/plain": [
              "array(['payment', 'package', 'suspend', ..., 'balance', 'balance',\n",
              "       'package'], dtype=object)"
            ]
          },
          "metadata": {},
          "output_type": "display_data"
        },
        {
          "data": {
            "text/plain": [
              "array([0, 1, 2, ..., 7, 7, 1], dtype=object)"
            ]
          },
          "metadata": {},
          "output_type": "display_data"
        }
      ],
      "source": [
        "data = data_df.to_numpy()\n",
        "unique_label = data_df['clean Object'].unique()\n",
        "\n",
        "label_2_num = dict(zip(unique_label, range(len(unique_label))))\n",
        "num_2_label = dict(zip(range(len(unique_label)), unique_label))\n",
        "\n",
        "display(label_2_num)\n",
        "display(num_2_label)\n",
        "\n",
        "display(data[:, 1])\n",
        "data[:, 1]\n",
        "data[:, 1] = np.vectorize(label_2_num.get)(data[:, 1])\n",
        "display(data[:, 1])"
      ]
    },
    {
      "cell_type": "markdown",
      "metadata": {
        "id": "BIxnPRiAmrhN"
      },
      "source": [
        "Split data into train, valdation, and test sets (normally the ratio will be 80:10:10 , respectively). We recommend to use train_test_spilt from scikit-learn to split the data into train, validation, test set.\n",
        "\n",
        "In addition, it should split the data that distribution of the labels in train, validation, test set are similar. There is **stratify** option to handle this issue.\n",
        "\n",
        "https://scikit-learn.org/stable/modules/generated/sklearn.model_selection.train_test_split.html\n",
        "\n",
        "Make sure the same data splitting is used for all models."
      ]
    },
    {
      "cell_type": "code",
      "execution_count": 9,
      "metadata": {},
      "outputs": [
        {
          "name": "stdout",
          "output_type": "stream",
          "text": [
            "[ 641 1791  730 1786  581 2108  246 1478  327  540  173 1142  280   22\n",
            "  246  248  296  231   50  206   49   79   36   67    4   10]\n"
          ]
        }
      ],
      "source": [
        "bin_label = np.bincount(np.array(data[:, 1], dtype=int))\n",
        "# print(data[:, 1])\n",
        "print(bin_label)"
      ]
    },
    {
      "cell_type": "code",
      "execution_count": 16,
      "metadata": {
        "id": "EYzMrvb7nYR2"
      },
      "outputs": [
        {
          "name": "stdout",
          "output_type": "stream",
          "text": [
            "(13367, 2)\n",
            "(10693, 2) (1337, 2) (1337, 2)\n"
          ]
        }
      ],
      "source": [
        "from sklearn.model_selection import train_test_split, StratifiedShuffleSplit\n",
        "\n",
        "sss_train_valtest = StratifiedShuffleSplit(n_splits=1, test_size=1/10, random_state=42)\n",
        "sss_val_test = StratifiedShuffleSplit(n_splits=1, test_size=1/9, random_state=42)\n",
        "\n",
        "print(data.shape)\n",
        "trainval_idx, test_idx = next(sss_train_valtest.split(data[:, 0], data[:, 1]))\n",
        "trainval_raw = data[trainval_idx]\n",
        "test_raw = data[test_idx]\n",
        "# print(trainval_raw.shape, test_raw.shape)\n",
        "\n",
        "train_idx, val_idx = next(sss_val_test.split(trainval_raw[:, 0], trainval_raw[:, 1]))\n",
        "train_raw = trainval_raw[train_idx]\n",
        "val_raw = trainval_raw[val_idx]\n",
        "\n",
        "print(train_raw.shape, val_raw.shape, test_raw.shape)"
      ]
    },
    {
      "cell_type": "code",
      "execution_count": 17,
      "metadata": {},
      "outputs": [
        {
          "name": "stdout",
          "output_type": "stream",
          "text": [
            "['ยิ่งจะ', 'แค่ว่า', 'เป็นแต่เพียง', 'ขอ', 'ถ้าหาก', 'บอกแล้ว', 'อื่น', 'ก็ดี', 'อย่างไรเสีย', 'จากนี้ไป', 'ข้าง', 'อย่างดี', 'อย่างๆ', 'หรือเปล่า', 'จะได้', 'มิได้', 'ครั้งที่', 'เสียยิ่งนัก', 'มุ่งหมาย', 'ข้างบน', 'เพิ่ม', 'อย่างนั้น', 'คุณๆ', 'ค่อนมาทาง', 'มั้ยเนี่ย', 'นับแต่นั้น', 'นำ', 'เท่าใด', 'พวกมัน', 'ตลอดวัน', 'เป็นเพียง', 'จนแม้น', 'ณ', 'เดียว', 'เยอะแยะ', 'คราวโน้น', 'แหละ', 'บางที', 'ขณะใด', 'ครบถ้วน', 'จำเป็น', 'จน', 'ด้วยที่', 'ความ', 'ครา', 'อย่างที่', 'ด้วยเหตุนี้', 'จัดแจง', 'ภายภาค', 'พร้อมทั้ง', 'ตลอดระยะเวลา', 'นี่', 'ทุกคราว', 'รวมๆ', 'หน่อย', 'ร่วมกัน', 'วันนั้น', 'เถอะ', 'บางขณะ', 'พวกท่าน', 'เถิด', 'เขียน', 'ที่ใด', 'เช่นเมื่อ', 'ยิ่ง', 'ที่ไหน', 'ดังเคย', 'ยังจะ', 'แห่งไหน', 'เล็ก', 'ข้า', 'ล่าสุด', 'นะ', 'แต่ทว่า', 'รวด', 'กันเถอะ', 'คราวหลัง', 'ให้ไป', 'แห่ง', 'ยังโง้น', 'แค่จะ', 'เป็นเพียงว่า', 'เป็น', 'นี้เอง', 'นี้แหล่', 'ช้า', 'กันและกัน', 'สมัยก่อน', 'ไม่ค่อยจะ', 'ในเมื่อ', 'กล่าวคือ', 'อย่างโน้น', 'ฯลฯ', 'ที่นั้น', 'ช่วย', 'ครั้งหลังสุด', 'ทีๆ', 'ด้วยประการฉะนี้', 'เกินๆ', 'ว่า', 'ที่แท้', 'เมื่อคราวที่', 'เสร็จสิ้น', 'ไม่', 'เต็มๆ', 'มึง', '\\ufeffๆ', 'เมื่อเช้า', 'หรือไร', 'ในที่', 'ครั้งครา', 'ปิด', 'เท่าไร', 'ประสบ', 'เอ็ง', 'สุดๆ', 'พบว่า', 'อย่างไหน', 'ทั้งนั้นด้วย', 'ครั้งๆ', 'ทั้งหลาย', 'ใช้', 'นัก', 'คราที่', 'ก่อนหน้า', 'ทว่า', 'แล้วเสร็จ', 'ไม่ว่า', 'คงจะ', 'เพิ่งจะ', 'ไว้', 'คงอยู่', 'ชาว', 'กระทำ', 'กับ', 'เหตุไร', 'จนบัดนี้', 'คราวละ', 'ทีใด', 'เป็นต้นไป', 'อดีต', 'แล้วกัน', 'สุด', 'เมื่อวันวาน', 'บางๆ', 'เป็นแต่', 'ถึงจะ', 'หาใช่', 'ไง', 'ก็ต่อเมื่อ', 'ทุกอย่าง', 'อันที่จริง', 'ไกลๆ', 'เชื่อว่า', 'นั่น', 'ตามแต่', 'ภายหลัง', 'เช่นใด', 'ด้วยว่า', 'ฝ่ายใด', 'ช้าๆ', 'ระยะๆ', 'ขณะที่', 'เป็นอัน', 'ครั้งก่อน', 'ยังงั้น', 'ผ่านๆ', 'ด้วยเช่นกัน', 'ใกล้ๆ', 'ประการหนึ่ง', 'ทุกแห่ง', 'ครั้งนั้น', 'วัน', 'ตรง', 'วันนี้', 'กัน', 'แสดงว่า', 'เน้น', 'สมัย', 'ช่วงต่อไป', 'ที่', 'ใกล้', 'เมื่อนี้', 'พอๆ', 'ฉะนั้น', 'ส่วนใหญ่', 'นับแต่', 'เกี่ยวๆ', 'รวมทั้ง', 'คราวก่อน', 'จริงจัง', 'แค่นี้', 'เท่านั้น', 'ช่วงหลัง', 'ยืนยัน', 'พอที', 'คำ', 'เพียงแค่', 'บางคราว', 'ยก', 'ขั้น', 'เยอะๆ', 'ทรง', 'บ้าง', 'คราวไหน', 'ถูกๆ', 'แต่เมื่อ', 'เสียจนกระทั่ง', 'ทุกคน', 'คราว', 'ทุกเมื่อ', 'ยิ่งขึ้น', 'อื่นๆ', 'มิฉะนั้น', 'รือว่า', 'ครั้งนี้', 'แต่', 'ด้วยเพราะ', 'เกิด', 'คล้ายกับ', 'บางกว่า', 'ครั้งไหน', 'เช่นนั้นเอง', 'เลย', 'ตลอดไป', 'สมัยนี้', 'เป็นที่สุด', 'จนกระทั่ง', 'ดัง', 'น้อย', 'จัดให้', 'พวกเขา', 'ส่วนน้อย', 'ฯล', 'สิ่งนี้', 'ครั้งคราว', 'บอกว่า', 'ทุกๆ', 'เช่น', 'จวนเจียน', 'นอกจากนี้', 'ต่างๆ', 'เหตุผล', 'ขณะ', 'อีก', 'เกิน', 'ตลอดจน', 'ภาคฯ', 'ประการฉะนี้', 'บางที่', 'เมื่อ', 'เสมือนว่า', 'เมื่อคืน', 'หารือ', 'ยิ่งนัก', 'มั๊ย', 'เสร็จแล้ว', 'เล็กๆ', 'บัดเดี๋ยวนี้', 'ข้างๆ', 'ต่างหาก', 'ไม่ใช่', 'พอดี', 'ก็คือ', 'คิดว่า', 'แสดง', 'ทําให้', 'ครั้งละ', 'ช่วงนั้น', 'เช่นดังก่อน', 'หลังจาก', 'ต่าง', 'นอกเหนือ', 'เสียจน', 'อันละ', 'ใคร่จะ', 'ซึ่งกัน', 'ทั้งตัว', 'จัง', 'แม้กระทั่ง', 'ในระหว่าง', 'จนเมื่อ', 'เท่านี้', 'ถูก', 'อยู่', 'ทันใดนั้น', 'พอ', 'ละ', 'แห่งใด', 'ทั้งนี้', 'พยายาม', 'ถึงอย่างไร', 'ตลอด', 'จับ', 'มิใช่', 'ครั้งใด', 'ทั้งคน', 'เราๆ', 'เช่นกัน', 'ขวาง', 'ประการ', 'เคย', 'ให้ดี', 'ไหน', 'คะ', 'เพียงเพราะ', 'เพราะ', 'อันๆ', 'อนึ่ง', 'บอก', 'ครับ', 'ก็แค่', 'เช่นเดียวกับ', 'ส่ง', 'ที่ละ', 'ในช่วง', 'นอก', 'ทีเดียว', 'นี่แน่ะ', 'เสร็จสมบูรณ์', 'เธอ', 'แท้จริง', 'ใน', 'มาก', 'กลับ', 'นู่น', 'ตามๆ', 'กำลังจะ', 'เมื่อคราว', 'ฉะนี้', 'กันดีไหม', 'แบบ', 'คล้าย', 'มัน', 'มุ่ง', 'จัดทำ', 'แม้ว่า', 'ดังกับว่า', 'กว้างๆ', 'พวกเธอ', 'ยังแต่', 'ก็แล้วแต่', 'น้อยกว่า', 'ก็', 'การ', 'ภายภาคหน้า', 'คล้ายกับว่า', 'ช่วงนี้', 'ดั่งเคย', 'นอกจากว่า', 'นํา', 'ช่วงก่อน', 'พบ', 'เช่นเคย', 'ค่อนข้าง', 'พร้อมที่', 'ใคร', 'ก็จะ', 'จากนี้', 'พร้อมด้วย', 'เพียง', 'หลัง', 'จัด', 'เมื่อก่อน', 'ใคร่', 'ทำไร', 'รวดเร็ว', 'จู่ๆ', 'ใต้', 'พวกนี้', 'ส่วนที่', 'แล้วแต่', 'เพิ่ง', 'ถึง', 'จวบ', 'มันๆ', 'เสียนั่นเอง', 'ตลอดทั่ว', 'จังๆ', 'แยะๆ', 'สิ่งใด', 'นับจากนี้', 'ซะก่อน', 'อันจะ', 'อันที่', 'ง่าย', 'นิด', 'ดังเก่า', 'ช่วงหน้า', 'อย่างหนึ่ง', 'น่ะ', 'อย่างน้อย', 'เป็นเพื่อ', 'จึง', 'พวก', 'ไป', 'ตั้ง', 'ครั้ง', 'ทั้งที่', 'นั้นไว', 'ถึงบัดนั้น', 'จนแม้', 'อยาก', 'เป็นอาทิ', 'เพื่อว่า', 'ขณะนั้น', 'เริ่ม', 'เผื่อที่', 'กำหนด', 'ตลอดถึง', 'อย่างไรก็ได้', 'แต่ก่อน', 'เหล่า', 'แค่นั้น', 'ด้วยเหตุว่า', 'ก่อนๆ', 'ส่วนดี', 'สำคัญ', 'ไหนๆ', 'ถ้าจะ', 'ตน', 'ซึ่ง', 'จ๋า', 'นับตั้งแต่', 'ปรากฏ', 'ซะจนถึง', 'ทั่ว', 'ทั้งมวล', 'มากกว่า', 'พอที่', 'หนึ่ง', 'ดังกล่าว', 'ขึ้น', 'ผิดๆ', 'หรือไง', 'ตนเอง', 'อันใด', 'เล่าว่า', 'ตลอดทั่วทั้ง', 'ตรงๆ', 'พอสม', 'ใหญ่โต', 'ดั่งกับว่า', 'จนตลอด', 'ที่แห่งนั้น', 'ต้อง', 'คราวนั้น', 'เพื่อ', 'สืบเนื่อง', 'เสียด้วย', 'ต่างก็', 'ยิ่งแล้ว', 'กว้างขวาง', 'ครานั้น', 'ยิ่งใหญ่', 'พร้อมเพียง', 'นาง', 'พอกัน', 'ถือ', 'ใครๆ', 'กระผม', 'ได้ที่', 'อย่างเดียว', 'ไม่ค่อยเป็น', 'ได้มา', 'ซะ', 'ที่จริง', 'กลุ่มก้อน', 'นอกจากนั้น', 'จัดหา', 'มักจะ', 'เฉพาะ', 'บางครา', 'เชื่อมั่น', 'เพิ่มเติม', 'ที่ได้', 'ทั้งนั้น', 'ข้าฯ', 'แม้แต่', 'แต่เพียง', 'พร้อมกับ', 'พวกโน้น', 'เหล่านี้', 'ค่ะ', 'ยังคง', 'จ้า', 'เมื่อวาน', 'เช่นเดียวกัน', 'เรา', 'แก่', 'เข้า', 'ทีเถอะ', 'แห่งนี้', 'วันใด', 'รวมกัน', 'รวม', 'ที่นี้', 'ใดๆ', 'มอง', 'ดังกับ', 'ได้แต่', 'เปลี่ยน', 'แรก', 'ตลอดปี', 'ทุกทาง', 'คล้ายกันกับ', 'เท่าไหร่', 'หรือไม่', 'ที', 'เมื่อคราวก่อน', 'ส่วนด้อย', 'บัดนั้น', 'แต่อย่างใด', 'เพียงไหน', 'พวกนั้น', 'ภาค', 'ไป่', 'เล็กน้อย', 'คราใด', 'แต่เดิม', 'หาความ', 'แต่ที่', 'ให้แด่', 'ขณะหนึ่ง', 'เกือบจะ', 'ก็ได้', 'มุ่งเน้น', 'ข้างเคียง', 'ที่แล้ว', 'รึ', 'ทํา', 'จัดตั้ง', 'เสร็จ', 'เมื่อนั้น', 'เสมือนกับ', 'เขา', 'จรดกับ', 'พวกแก', 'กระทั่ง', 'รับ', 'เป็นการ', 'อย่างยิ่ง', 'ด้วยเหตุนั้น', 'ผู้ใด', 'ตามด้วย', 'เห็นควร', 'มั้ย', 'จนขณะนี้', 'ทั้ง', 'เป็นเพราะ', 'แห่งนั้น', 'เช่นดังว่า', 'บัดนี้', 'ล้วนจน', 'รวมถึง', 'แม้นว่า', 'อาจ', 'ช่วงถัดไป', 'เพราะฉะนั้น', 'หมดกัน', 'ย่อม', 'พวกฉัน', 'ภายใน', 'จริงๆ', 'ทำๆ', 'ด้วยกัน', 'ทีไร', 'หากแม้', 'กันดีกว่า', 'สั้นๆ', 'ที่ว่า', 'ใหญ่', 'ทันที', 'หรือยัง', 'จัดงาน', 'อย่างใด', 'ดั่ง', 'อย่างมาก', 'ทัน', 'อาจเป็น', 'ซึ่งก็คือ', 'หากแม้นว่า', 'เช่นไร', 'มี', 'นอกจากที่', 'ครั้งหนึ่ง', 'ใช่', 'ข้างต้น', 'ที่ซึ่ง', 'นี่นา', 'พวกคุณ', 'ส่วนนั้น', 'พวกกู', 'หมดสิ้น', 'สิ้นกาลนาน', 'ถึงแม้', 'จึงเป็น', 'ค่อนข้างจะ', 'ต่อกัน', 'มากมาย', 'ส่วน', 'ปรับ', 'ปฏิบัติ', 'เฉยๆ', 'ด้าน', 'รือ', 'ตามที่', 'เท่าที่', 'เมื่อครั้งก่อน', 'ตนฯ', 'พวกกัน', 'ปัจจุบัน', 'แต่ไร', 'นอกนั้น', 'เสียนั่น', 'ด้วยเหตุเพราะ', 'พึง', 'ซึ่งก็', 'ถึงแม้ว่า', 'เดียวกัน', 'เป็นอันมาก', 'แต่จะ', 'ยอมรับ', 'คง', 'นี่เอง', 'ร่วม', 'ยังไง', 'ทั้งที', 'เนี่ย', 'กว้าง', 'จ้ะ', 'ให้', 'สูง', 'ซะจน', 'ขวางๆ', 'ช่วงที่', 'ออก', 'หลาย', 'จะ', 'เปิดเผย', 'เสียจนถึง', 'จนกว่า', 'เรียบ', 'ไกล', 'ที่สุด', 'จำพวก', 'เหตุนั้น', 'รับรอง', 'สิ่ง', 'เหตุ', 'เพียงใด', 'เป็นอันๆ', 'เป็นต้น', 'เฉกเช่น', 'ซึ่งๆ', 'เผื่อจะ', 'พื้นๆ', 'เสียก่อน', 'เกี่ยวกัน', 'เสียแล้ว', 'ช่วงแรก', 'ตลอดกาล', 'คือ', 'ทุกครั้ง', 'นอกเหนือจาก', 'แต่ต้อง', 'นับแต่นี้', 'นั่นเอง', 'เพียงไร', 'เช่นนั้น', 'เปลี่ยนแปลง', 'ทั้งนั้นเพราะ', 'นำมา', 'สูงๆ', 'ใหญ่ๆ', 'สมัยนั้น', 'หาก', 'กว่า', 'หนอ', 'ทั้งเป็น', 'จวบจน', 'คราไหน', 'ไม่ค่อย', 'ทั้งๆ', 'แก้ไข', 'อย่างไร', 'ไร', 'เยอะ', 'ร่วมมือ', 'ช่วงระหว่าง', 'ได้รับ', 'ด้วยเหมือนกัน', 'เป็นเพราะว่า', 'พูด', 'กันเอง', 'เสร็จกัน', 'หรือ', 'ยืนยาว', 'ทุกวันนี้', 'เข้าใจ', 'ได้แก่', 'ทั้งหมด', 'ทุกที', 'เพื่อที่จะ', 'ค่อยไปทาง', 'เห็นแก่', 'ปรากฏว่า', 'ล้วนแต่', 'ง่ายๆ', 'ผ่าน', 'บ่อยกว่า', 'อย่างนี้', 'เพื่อให้', 'ทุกตัว', 'ด้วยเหตุที่', 'ยาก', 'ยิ่งเมื่อ', 'คราวหน้า', 'เกี่ยวกับ', 'ช้านาน', 'พร้อม', 'ราย', 'น่าจะ', 'ของ', 'อย่างไรก็', 'หมด', 'คล้ายว่า', 'คราหนึ่ง', 'น่า', 'เมื่อไหร่', 'เสียนี่กระไร', 'แต่ถ้า', 'นางสาว', 'เช่นดังที่', 'พอควร', 'ดั่งกับ', 'จำ', 'นี้', 'นับจากนั้น', 'จริง', 'นิดๆ', 'ยืนยง', 'เหลือเกิน', 'ตลอดมา', 'แยะ', 'และ', 'ที่แท้จริง', 'ค่อน', 'ภายใต้', 'ยกให้', 'ขณะใดๆ', 'แท้', 'ส่วนใด', 'พอตัว', 'ก็ตาม', 'เหล่านั้น', 'ฝ่าย', 'ซึ่งได้แก่', 'จ๊ะ', 'ตลอดกาลนาน', 'จึงจะ', 'แม้', 'สิ่งไหน', 'ถึงแม้จะ', 'ก่อน', 'คราวใด', 'หากแม้น', 'สูงส่ง', 'ใหม่', 'แต่ละ', 'ฯ', 'นักๆ', 'เช่นนี้', 'แล้ว', 'พอเหมาะ', 'เป็นที่', 'ใช่ไหม', 'เมื่อไร', 'ครั้งหลัง', 'สามารถ', 'คราวหนึ่ง', 'จริงๆจังๆ', 'ถึงแก่', 'นำพา', 'นั่นเป็น', 'สูงสุด', 'เต็มไปด้วย', 'ซึ่งกันและกัน', 'เรียก', 'เสีย', 'ครบ', 'เห็นจะ', 'รวมด้วย', 'ทีละ', 'กระนั้น', 'กลุ่ม', 'ครบครัน', 'คุณ', 'โดย', 'ขณะนี้', 'เอง', 'สูงกว่า', 'ถูกต้อง', 'จากนั้น', 'นับ', 'จัดการ', 'นี่แหละ', 'ตลอดทั่วถึง', 'เพราะว่า', 'เท่ากับ', 'ไฉน', 'มา', 'ข้าพเจ้า', 'ๆ', 'เช่นดัง', 'ทุก', 'ร่วมด้วย', 'นู้น', 'จนทั่ว', 'ด้วย', 'เสียนี่', 'มั้ยล่ะ', 'กำลัง', 'ระหว่าง', 'เต็มไปหมด', 'เป็นที', 'บางครั้ง', 'สั้น', 'พอจะ', 'สําหรับ', 'จวบกับ', 'ต่อ', 'แต่ว่า', 'นั้น', 'เป็นดัง', 'ถึงเมื่อใด', 'เป็นต้นมา', 'ยิ่งขึ้นไป', 'อันไหน', 'ซะจนกระทั่ง', 'กันนะ', 'เชื่อ', 'ยืนนาน', 'เรื่อย', 'อย่างละ', 'ยังงี้', 'เร็ว', 'พวกที่', 'ครานี้', 'ส่วนเกิน', 'ผล', 'กันไหม', 'ถึงเมื่อไร', 'หนอย', 'ทันทีทันใด', 'เฉย', 'ผิด', 'ส่วนมาก', 'ภาย', 'ลง', 'ยิ่งกว่า', 'มองว่า', 'บ่อยๆ', 'กลุ่มๆ', 'ยาว', 'สิ้น', 'พวกมึง', 'เก็บ', 'มั้ยนะ', 'บางแห่ง', 'ผู้', 'นั่นไง', 'บัดดล', 'เห็นว่า', 'สิ่งนั้น', 'วันไหน', 'เป็นอันว่า', 'ล้วน', 'แค่ไหน', 'ที่ๆ', 'พอสมควร', 'เนี่ยเอง', 'จรด', 'สู่', 'นับแต่ที่', 'ทำไม', 'บ่อย', 'คล้ายกัน', 'เปิด', 'ทำให้', 'แค่', 'ช่วงท้าย', 'ย่อย', 'ตลอดศก', 'คราวๆ', 'นอกจาก', 'ดั่งเก่า', 'นาย', 'ยาวนาน', 'ยิ่งจน', 'อย่างเช่น', 'ระยะ', 'เหลือ', 'อัน', 'คราวที่', 'เผื่อว่า', 'แค่เพียง', 'ถ้า', 'มีแต่', 'แห่งโน้น', 'นั้นๆ', 'เพื่อที่', 'ตลอดเวลา', 'ครัน', 'นั่นแหละ', 'ทุกอัน', 'แต่ไหน', 'ขาด', 'คราวนี้', 'จนถึง', 'อย่าง', 'เพียงแต่', 'เท่ากัน', 'เช่นที่เคย', 'เผื่อ', 'แต่ก็', 'จด', 'ให้แก่', 'โตๆ', 'ช่วงๆ', 'ทุกหน', 'ทุกที่', 'ควร', 'ยัง', 'บน', 'ทาง', 'เกือบ', 'ทุกวัน', 'พอแล้ว', 'ทุกครา', 'เมื่อเย็น', 'กล่าว', 'จวน', 'ข้างล่าง', 'เท่า', 'อาจเป็นด้วย', 'เหตุนี้', 'นิดหน่อย', 'จง', 'ได้', 'ประมาณ', 'ช่วง', 'อันที่จะ', 'อันเนื่องมาจาก', 'เอา', 'โต', 'จาก', 'เรื่อยๆ', 'เมื่อครั้ง', 'เพียงพอ', 'เมื่อใด', 'ใหม่ๆ', 'พึ่ง', 'เช่นที่ว่า', 'ถือว่า', 'ให้มา', 'ประการใด', 'ตาม', 'เกี่ยวข้อง', 'เช่นก่อน', 'สมัยโน้น', 'เชื่อถือ', 'ภายนอก', 'อันได้แก่', 'เร็วๆ', 'อาจจะ', 'มั้ยนั่น', 'ถึงเมื่อ', 'จวนจะ', 'เกือบๆ', 'บาง', 'มัก', 'พา', 'เกี่ยวเนื่อง', 'มิ', 'รึว่า', 'ฉัน', 'พวกนู้น', 'เสียยิ่ง', 'ตลอดทั้ง', 'เป็นด้วย', 'เช่นดังเก่า', 'ภายหน้า', 'กู', 'พอเพียง', 'นี่ไง', 'ทุกสิ่ง', 'แต่นั้น', 'ตั้งแต่', 'คิด', 'อะไร', 'ยอม', 'นาน', 'ถึงบัดนี้', 'ครั้งกระนั้น', 'หน', 'นานๆ', 'สบาย', 'เช่นที่', 'ไม่เป็นไร', 'ก็ตามแต่', 'พร้อมกัน', 'เนื่องจาก', 'เพียงเพื่อ', 'ขณะเดียวกัน', 'ค่อยๆ', 'น้อยๆ', 'เป็นๆ', 'ประกอบ', 'บ่อยครั้ง', 'ค่อย', 'เคยๆ', 'เห็น', 'ก่อนหน้านี้', 'แก', 'ก็ตามที', 'หากว่า', 'ทั้งปวง', 'ทุกชิ้น', 'ทั้งสิ้น']\n",
            "['ตะกี้', 'ไป', 'ชำระ', 'ค่าบริการ', 'ไป', 'แล้ว', ' ', 'แต่', 'ยัง', 'ใช้งาน', 'ไม่', 'ได้']\n"
          ]
        }
      ],
      "source": [
        "import pythainlp\n",
        "from pythainlp import word_tokenize\n",
        "\n",
        "thai_stopwords = pythainlp.corpus.thai_stopwords()\n",
        "thai_stopwords = list(thai_stopwords)\n",
        "print(thai_stopwords)\n",
        "tokenizer = pythainlp.tokenize.word_tokenize\n",
        "\n",
        "print(tokenizer('ตะกี้ไปชำระค่าบริการไปแล้ว แต่ยังใช้งานไม่ได้'))"
      ]
    },
    {
      "cell_type": "markdown",
      "metadata": {
        "id": "Nx6gllzrnVVU"
      },
      "source": [
        "#Model 1 TF-IDF\n",
        "\n",
        "Build a model to train a tf-idf text classifier. Use a simple logistic regression model for the classifier.\n",
        "\n",
        "For this part, you may find this [tutorial](https://scikit-learn.org/stable/auto_examples/text/plot_document_classification_20newsgroups.html#sphx-glr-auto-examples-text-plot-document-classification-20newsgroups-py) helpful.\n",
        "\n",
        "Below are some design choices you need to consider to accomplish this task. Be sure to answer them when you submit your model.\n",
        "\n",
        "What tokenizer will you use? Why?\n",
        "\n",
        "**Ans: I use pythainlp because dataset is thai language, this tokenizer might suit tokenize task for thai sentence.**\n",
        "\n",
        "Will you ignore some stop words (a, an, the, to, etc. for English) in your tf-idf? Is it important?\n",
        "PythaiNLP provides a list of stopwords if you want to use (https://pythainlp.org/docs/2.0/api/corpus.html#pythainlp.corpus.common.thai_stopwords)\n",
        "\n",
        "**Ans: From the experiments, Used stop words yield acuuracy on test set at 0.69, but without stop words reach 0.74. Each sentence in dataset might too short so stop words cut out many context of each sentence.**\n",
        "\n",
        "The dictionary of TF-IDF is usually based on the training data. How many words in the test set are OOVs?\n",
        "\n",
        "**Ans: Occuring 8193 times and there're uniquely 473 words**"
      ]
    },
    {
      "cell_type": "code",
      "execution_count": 32,
      "metadata": {
        "id": "9vOqTqmfufsT"
      },
      "outputs": [
        {
          "name": "stdout",
          "output_type": "stream",
          "text": [
            "(10693, 3286) (1337, 3286) (1337, 3286)\n",
            "(10693,) (1337,) (1337,)\n"
          ]
        }
      ],
      "source": [
        "from sklearn.feature_extraction.text import TfidfVectorizer\n",
        "\n",
        "# vectorizer = TfidfVectorizer(tokenizer=tokenizer, stop_words=None)\n",
        "vectorizer = TfidfVectorizer(tokenizer=tokenizer, stop_words=thai_stopwords)\n",
        "\n",
        "X_train = vectorizer.fit_transform(train_raw[:, 0])\n",
        "X_val = vectorizer.transform(val_raw[:, 0])\n",
        "X_test = vectorizer.transform(test_raw[:, 0])\n",
        "\n",
        "y_train = train_raw[:, 1].astype(int)\n",
        "y_val = val_raw[:, 1].astype(int)\n",
        "y_test = test_raw[:, 1].astype(int)\n",
        "\n",
        "print(X_train.shape, X_val.shape, X_test.shape)\n",
        "print(y_train.shape, y_val.shape, y_test.shape)"
      ]
    },
    {
      "cell_type": "code",
      "execution_count": 33,
      "metadata": {},
      "outputs": [
        {
          "name": "stdout",
          "output_type": "stream",
          "text": [
            "'คะจะรบกวนสอบถามนิดนึงว่า พอดีใช้โทรศัพท์บีบีใช้ไหม แล้วเล่น ไลน์ ได้ไหม'\n",
            "<Compressed Sparse Row sparse matrix of dtype 'float64'\n",
            "\twith 9 stored elements and shape (1, 3286)>\n",
            "  Coords\tValues\n",
            "  (0, 1)\t0.3001256331419422\n",
            "  (0, 1480)\t0.267998540180016\n",
            "  (0, 1555)\t0.5518381273514346\n",
            "  (0, 1880)\t0.23692016311205774\n",
            "  (0, 2191)\t0.12867156319941367\n",
            "  (0, 2858)\t0.2278119799118207\n",
            "  (0, 3136)\t0.20822971804046236\n",
            "  (0, 3258)\t0.3808233638797442\n",
            "  (0, 3265)\t0.4696851977498628\n",
            "[' ' 'นิดนึง' 'บี' 'รบกวน' 'สอบถาม' 'เล่น' 'โทรศัพท์' 'ไลน์' 'ไหม']\n"
          ]
        }
      ],
      "source": [
        "example = train_raw[4, 0]\n",
        "print(f\"'{example}'\")\n",
        "print(vectorizer.transform([example]))\n",
        "print(vectorizer.get_feature_names_out()[np.where(vectorizer.transform([example]).toarray()[0] > 0)])"
      ]
    },
    {
      "cell_type": "code",
      "execution_count": 34,
      "metadata": {},
      "outputs": [
        {
          "data": {
            "text/html": [
              "<style>#sk-container-id-4 {\n",
              "  /* Definition of color scheme common for light and dark mode */\n",
              "  --sklearn-color-text: #000;\n",
              "  --sklearn-color-text-muted: #666;\n",
              "  --sklearn-color-line: gray;\n",
              "  /* Definition of color scheme for unfitted estimators */\n",
              "  --sklearn-color-unfitted-level-0: #fff5e6;\n",
              "  --sklearn-color-unfitted-level-1: #f6e4d2;\n",
              "  --sklearn-color-unfitted-level-2: #ffe0b3;\n",
              "  --sklearn-color-unfitted-level-3: chocolate;\n",
              "  /* Definition of color scheme for fitted estimators */\n",
              "  --sklearn-color-fitted-level-0: #f0f8ff;\n",
              "  --sklearn-color-fitted-level-1: #d4ebff;\n",
              "  --sklearn-color-fitted-level-2: #b3dbfd;\n",
              "  --sklearn-color-fitted-level-3: cornflowerblue;\n",
              "\n",
              "  /* Specific color for light theme */\n",
              "  --sklearn-color-text-on-default-background: var(--sg-text-color, var(--theme-code-foreground, var(--jp-content-font-color1, black)));\n",
              "  --sklearn-color-background: var(--sg-background-color, var(--theme-background, var(--jp-layout-color0, white)));\n",
              "  --sklearn-color-border-box: var(--sg-text-color, var(--theme-code-foreground, var(--jp-content-font-color1, black)));\n",
              "  --sklearn-color-icon: #696969;\n",
              "\n",
              "  @media (prefers-color-scheme: dark) {\n",
              "    /* Redefinition of color scheme for dark theme */\n",
              "    --sklearn-color-text-on-default-background: var(--sg-text-color, var(--theme-code-foreground, var(--jp-content-font-color1, white)));\n",
              "    --sklearn-color-background: var(--sg-background-color, var(--theme-background, var(--jp-layout-color0, #111)));\n",
              "    --sklearn-color-border-box: var(--sg-text-color, var(--theme-code-foreground, var(--jp-content-font-color1, white)));\n",
              "    --sklearn-color-icon: #878787;\n",
              "  }\n",
              "}\n",
              "\n",
              "#sk-container-id-4 {\n",
              "  color: var(--sklearn-color-text);\n",
              "}\n",
              "\n",
              "#sk-container-id-4 pre {\n",
              "  padding: 0;\n",
              "}\n",
              "\n",
              "#sk-container-id-4 input.sk-hidden--visually {\n",
              "  border: 0;\n",
              "  clip: rect(1px 1px 1px 1px);\n",
              "  clip: rect(1px, 1px, 1px, 1px);\n",
              "  height: 1px;\n",
              "  margin: -1px;\n",
              "  overflow: hidden;\n",
              "  padding: 0;\n",
              "  position: absolute;\n",
              "  width: 1px;\n",
              "}\n",
              "\n",
              "#sk-container-id-4 div.sk-dashed-wrapped {\n",
              "  border: 1px dashed var(--sklearn-color-line);\n",
              "  margin: 0 0.4em 0.5em 0.4em;\n",
              "  box-sizing: border-box;\n",
              "  padding-bottom: 0.4em;\n",
              "  background-color: var(--sklearn-color-background);\n",
              "}\n",
              "\n",
              "#sk-container-id-4 div.sk-container {\n",
              "  /* jupyter's `normalize.less` sets `[hidden] { display: none; }`\n",
              "     but bootstrap.min.css set `[hidden] { display: none !important; }`\n",
              "     so we also need the `!important` here to be able to override the\n",
              "     default hidden behavior on the sphinx rendered scikit-learn.org.\n",
              "     See: https://github.com/scikit-learn/scikit-learn/issues/21755 */\n",
              "  display: inline-block !important;\n",
              "  position: relative;\n",
              "}\n",
              "\n",
              "#sk-container-id-4 div.sk-text-repr-fallback {\n",
              "  display: none;\n",
              "}\n",
              "\n",
              "div.sk-parallel-item,\n",
              "div.sk-serial,\n",
              "div.sk-item {\n",
              "  /* draw centered vertical line to link estimators */\n",
              "  background-image: linear-gradient(var(--sklearn-color-text-on-default-background), var(--sklearn-color-text-on-default-background));\n",
              "  background-size: 2px 100%;\n",
              "  background-repeat: no-repeat;\n",
              "  background-position: center center;\n",
              "}\n",
              "\n",
              "/* Parallel-specific style estimator block */\n",
              "\n",
              "#sk-container-id-4 div.sk-parallel-item::after {\n",
              "  content: \"\";\n",
              "  width: 100%;\n",
              "  border-bottom: 2px solid var(--sklearn-color-text-on-default-background);\n",
              "  flex-grow: 1;\n",
              "}\n",
              "\n",
              "#sk-container-id-4 div.sk-parallel {\n",
              "  display: flex;\n",
              "  align-items: stretch;\n",
              "  justify-content: center;\n",
              "  background-color: var(--sklearn-color-background);\n",
              "  position: relative;\n",
              "}\n",
              "\n",
              "#sk-container-id-4 div.sk-parallel-item {\n",
              "  display: flex;\n",
              "  flex-direction: column;\n",
              "}\n",
              "\n",
              "#sk-container-id-4 div.sk-parallel-item:first-child::after {\n",
              "  align-self: flex-end;\n",
              "  width: 50%;\n",
              "}\n",
              "\n",
              "#sk-container-id-4 div.sk-parallel-item:last-child::after {\n",
              "  align-self: flex-start;\n",
              "  width: 50%;\n",
              "}\n",
              "\n",
              "#sk-container-id-4 div.sk-parallel-item:only-child::after {\n",
              "  width: 0;\n",
              "}\n",
              "\n",
              "/* Serial-specific style estimator block */\n",
              "\n",
              "#sk-container-id-4 div.sk-serial {\n",
              "  display: flex;\n",
              "  flex-direction: column;\n",
              "  align-items: center;\n",
              "  background-color: var(--sklearn-color-background);\n",
              "  padding-right: 1em;\n",
              "  padding-left: 1em;\n",
              "}\n",
              "\n",
              "\n",
              "/* Toggleable style: style used for estimator/Pipeline/ColumnTransformer box that is\n",
              "clickable and can be expanded/collapsed.\n",
              "- Pipeline and ColumnTransformer use this feature and define the default style\n",
              "- Estimators will overwrite some part of the style using the `sk-estimator` class\n",
              "*/\n",
              "\n",
              "/* Pipeline and ColumnTransformer style (default) */\n",
              "\n",
              "#sk-container-id-4 div.sk-toggleable {\n",
              "  /* Default theme specific background. It is overwritten whether we have a\n",
              "  specific estimator or a Pipeline/ColumnTransformer */\n",
              "  background-color: var(--sklearn-color-background);\n",
              "}\n",
              "\n",
              "/* Toggleable label */\n",
              "#sk-container-id-4 label.sk-toggleable__label {\n",
              "  cursor: pointer;\n",
              "  display: flex;\n",
              "  width: 100%;\n",
              "  margin-bottom: 0;\n",
              "  padding: 0.5em;\n",
              "  box-sizing: border-box;\n",
              "  text-align: center;\n",
              "  align-items: start;\n",
              "  justify-content: space-between;\n",
              "  gap: 0.5em;\n",
              "}\n",
              "\n",
              "#sk-container-id-4 label.sk-toggleable__label .caption {\n",
              "  font-size: 0.6rem;\n",
              "  font-weight: lighter;\n",
              "  color: var(--sklearn-color-text-muted);\n",
              "}\n",
              "\n",
              "#sk-container-id-4 label.sk-toggleable__label-arrow:before {\n",
              "  /* Arrow on the left of the label */\n",
              "  content: \"▸\";\n",
              "  float: left;\n",
              "  margin-right: 0.25em;\n",
              "  color: var(--sklearn-color-icon);\n",
              "}\n",
              "\n",
              "#sk-container-id-4 label.sk-toggleable__label-arrow:hover:before {\n",
              "  color: var(--sklearn-color-text);\n",
              "}\n",
              "\n",
              "/* Toggleable content - dropdown */\n",
              "\n",
              "#sk-container-id-4 div.sk-toggleable__content {\n",
              "  max-height: 0;\n",
              "  max-width: 0;\n",
              "  overflow: hidden;\n",
              "  text-align: left;\n",
              "  /* unfitted */\n",
              "  background-color: var(--sklearn-color-unfitted-level-0);\n",
              "}\n",
              "\n",
              "#sk-container-id-4 div.sk-toggleable__content.fitted {\n",
              "  /* fitted */\n",
              "  background-color: var(--sklearn-color-fitted-level-0);\n",
              "}\n",
              "\n",
              "#sk-container-id-4 div.sk-toggleable__content pre {\n",
              "  margin: 0.2em;\n",
              "  border-radius: 0.25em;\n",
              "  color: var(--sklearn-color-text);\n",
              "  /* unfitted */\n",
              "  background-color: var(--sklearn-color-unfitted-level-0);\n",
              "}\n",
              "\n",
              "#sk-container-id-4 div.sk-toggleable__content.fitted pre {\n",
              "  /* unfitted */\n",
              "  background-color: var(--sklearn-color-fitted-level-0);\n",
              "}\n",
              "\n",
              "#sk-container-id-4 input.sk-toggleable__control:checked~div.sk-toggleable__content {\n",
              "  /* Expand drop-down */\n",
              "  max-height: 200px;\n",
              "  max-width: 100%;\n",
              "  overflow: auto;\n",
              "}\n",
              "\n",
              "#sk-container-id-4 input.sk-toggleable__control:checked~label.sk-toggleable__label-arrow:before {\n",
              "  content: \"▾\";\n",
              "}\n",
              "\n",
              "/* Pipeline/ColumnTransformer-specific style */\n",
              "\n",
              "#sk-container-id-4 div.sk-label input.sk-toggleable__control:checked~label.sk-toggleable__label {\n",
              "  color: var(--sklearn-color-text);\n",
              "  background-color: var(--sklearn-color-unfitted-level-2);\n",
              "}\n",
              "\n",
              "#sk-container-id-4 div.sk-label.fitted input.sk-toggleable__control:checked~label.sk-toggleable__label {\n",
              "  background-color: var(--sklearn-color-fitted-level-2);\n",
              "}\n",
              "\n",
              "/* Estimator-specific style */\n",
              "\n",
              "/* Colorize estimator box */\n",
              "#sk-container-id-4 div.sk-estimator input.sk-toggleable__control:checked~label.sk-toggleable__label {\n",
              "  /* unfitted */\n",
              "  background-color: var(--sklearn-color-unfitted-level-2);\n",
              "}\n",
              "\n",
              "#sk-container-id-4 div.sk-estimator.fitted input.sk-toggleable__control:checked~label.sk-toggleable__label {\n",
              "  /* fitted */\n",
              "  background-color: var(--sklearn-color-fitted-level-2);\n",
              "}\n",
              "\n",
              "#sk-container-id-4 div.sk-label label.sk-toggleable__label,\n",
              "#sk-container-id-4 div.sk-label label {\n",
              "  /* The background is the default theme color */\n",
              "  color: var(--sklearn-color-text-on-default-background);\n",
              "}\n",
              "\n",
              "/* On hover, darken the color of the background */\n",
              "#sk-container-id-4 div.sk-label:hover label.sk-toggleable__label {\n",
              "  color: var(--sklearn-color-text);\n",
              "  background-color: var(--sklearn-color-unfitted-level-2);\n",
              "}\n",
              "\n",
              "/* Label box, darken color on hover, fitted */\n",
              "#sk-container-id-4 div.sk-label.fitted:hover label.sk-toggleable__label.fitted {\n",
              "  color: var(--sklearn-color-text);\n",
              "  background-color: var(--sklearn-color-fitted-level-2);\n",
              "}\n",
              "\n",
              "/* Estimator label */\n",
              "\n",
              "#sk-container-id-4 div.sk-label label {\n",
              "  font-family: monospace;\n",
              "  font-weight: bold;\n",
              "  display: inline-block;\n",
              "  line-height: 1.2em;\n",
              "}\n",
              "\n",
              "#sk-container-id-4 div.sk-label-container {\n",
              "  text-align: center;\n",
              "}\n",
              "\n",
              "/* Estimator-specific */\n",
              "#sk-container-id-4 div.sk-estimator {\n",
              "  font-family: monospace;\n",
              "  border: 1px dotted var(--sklearn-color-border-box);\n",
              "  border-radius: 0.25em;\n",
              "  box-sizing: border-box;\n",
              "  margin-bottom: 0.5em;\n",
              "  /* unfitted */\n",
              "  background-color: var(--sklearn-color-unfitted-level-0);\n",
              "}\n",
              "\n",
              "#sk-container-id-4 div.sk-estimator.fitted {\n",
              "  /* fitted */\n",
              "  background-color: var(--sklearn-color-fitted-level-0);\n",
              "}\n",
              "\n",
              "/* on hover */\n",
              "#sk-container-id-4 div.sk-estimator:hover {\n",
              "  /* unfitted */\n",
              "  background-color: var(--sklearn-color-unfitted-level-2);\n",
              "}\n",
              "\n",
              "#sk-container-id-4 div.sk-estimator.fitted:hover {\n",
              "  /* fitted */\n",
              "  background-color: var(--sklearn-color-fitted-level-2);\n",
              "}\n",
              "\n",
              "/* Specification for estimator info (e.g. \"i\" and \"?\") */\n",
              "\n",
              "/* Common style for \"i\" and \"?\" */\n",
              "\n",
              ".sk-estimator-doc-link,\n",
              "a:link.sk-estimator-doc-link,\n",
              "a:visited.sk-estimator-doc-link {\n",
              "  float: right;\n",
              "  font-size: smaller;\n",
              "  line-height: 1em;\n",
              "  font-family: monospace;\n",
              "  background-color: var(--sklearn-color-background);\n",
              "  border-radius: 1em;\n",
              "  height: 1em;\n",
              "  width: 1em;\n",
              "  text-decoration: none !important;\n",
              "  margin-left: 0.5em;\n",
              "  text-align: center;\n",
              "  /* unfitted */\n",
              "  border: var(--sklearn-color-unfitted-level-1) 1pt solid;\n",
              "  color: var(--sklearn-color-unfitted-level-1);\n",
              "}\n",
              "\n",
              ".sk-estimator-doc-link.fitted,\n",
              "a:link.sk-estimator-doc-link.fitted,\n",
              "a:visited.sk-estimator-doc-link.fitted {\n",
              "  /* fitted */\n",
              "  border: var(--sklearn-color-fitted-level-1) 1pt solid;\n",
              "  color: var(--sklearn-color-fitted-level-1);\n",
              "}\n",
              "\n",
              "/* On hover */\n",
              "div.sk-estimator:hover .sk-estimator-doc-link:hover,\n",
              ".sk-estimator-doc-link:hover,\n",
              "div.sk-label-container:hover .sk-estimator-doc-link:hover,\n",
              ".sk-estimator-doc-link:hover {\n",
              "  /* unfitted */\n",
              "  background-color: var(--sklearn-color-unfitted-level-3);\n",
              "  color: var(--sklearn-color-background);\n",
              "  text-decoration: none;\n",
              "}\n",
              "\n",
              "div.sk-estimator.fitted:hover .sk-estimator-doc-link.fitted:hover,\n",
              ".sk-estimator-doc-link.fitted:hover,\n",
              "div.sk-label-container:hover .sk-estimator-doc-link.fitted:hover,\n",
              ".sk-estimator-doc-link.fitted:hover {\n",
              "  /* fitted */\n",
              "  background-color: var(--sklearn-color-fitted-level-3);\n",
              "  color: var(--sklearn-color-background);\n",
              "  text-decoration: none;\n",
              "}\n",
              "\n",
              "/* Span, style for the box shown on hovering the info icon */\n",
              ".sk-estimator-doc-link span {\n",
              "  display: none;\n",
              "  z-index: 9999;\n",
              "  position: relative;\n",
              "  font-weight: normal;\n",
              "  right: .2ex;\n",
              "  padding: .5ex;\n",
              "  margin: .5ex;\n",
              "  width: min-content;\n",
              "  min-width: 20ex;\n",
              "  max-width: 50ex;\n",
              "  color: var(--sklearn-color-text);\n",
              "  box-shadow: 2pt 2pt 4pt #999;\n",
              "  /* unfitted */\n",
              "  background: var(--sklearn-color-unfitted-level-0);\n",
              "  border: .5pt solid var(--sklearn-color-unfitted-level-3);\n",
              "}\n",
              "\n",
              ".sk-estimator-doc-link.fitted span {\n",
              "  /* fitted */\n",
              "  background: var(--sklearn-color-fitted-level-0);\n",
              "  border: var(--sklearn-color-fitted-level-3);\n",
              "}\n",
              "\n",
              ".sk-estimator-doc-link:hover span {\n",
              "  display: block;\n",
              "}\n",
              "\n",
              "/* \"?\"-specific style due to the `<a>` HTML tag */\n",
              "\n",
              "#sk-container-id-4 a.estimator_doc_link {\n",
              "  float: right;\n",
              "  font-size: 1rem;\n",
              "  line-height: 1em;\n",
              "  font-family: monospace;\n",
              "  background-color: var(--sklearn-color-background);\n",
              "  border-radius: 1rem;\n",
              "  height: 1rem;\n",
              "  width: 1rem;\n",
              "  text-decoration: none;\n",
              "  /* unfitted */\n",
              "  color: var(--sklearn-color-unfitted-level-1);\n",
              "  border: var(--sklearn-color-unfitted-level-1) 1pt solid;\n",
              "}\n",
              "\n",
              "#sk-container-id-4 a.estimator_doc_link.fitted {\n",
              "  /* fitted */\n",
              "  border: var(--sklearn-color-fitted-level-1) 1pt solid;\n",
              "  color: var(--sklearn-color-fitted-level-1);\n",
              "}\n",
              "\n",
              "/* On hover */\n",
              "#sk-container-id-4 a.estimator_doc_link:hover {\n",
              "  /* unfitted */\n",
              "  background-color: var(--sklearn-color-unfitted-level-3);\n",
              "  color: var(--sklearn-color-background);\n",
              "  text-decoration: none;\n",
              "}\n",
              "\n",
              "#sk-container-id-4 a.estimator_doc_link.fitted:hover {\n",
              "  /* fitted */\n",
              "  background-color: var(--sklearn-color-fitted-level-3);\n",
              "}\n",
              "</style><div id=\"sk-container-id-4\" class=\"sk-top-container\"><div class=\"sk-text-repr-fallback\"><pre>LogisticRegression(max_iter=1000)</pre><b>In a Jupyter environment, please rerun this cell to show the HTML representation or trust the notebook. <br />On GitHub, the HTML representation is unable to render, please try loading this page with nbviewer.org.</b></div><div class=\"sk-container\" hidden><div class=\"sk-item\"><div class=\"sk-estimator fitted sk-toggleable\"><input class=\"sk-toggleable__control sk-hidden--visually\" id=\"sk-estimator-id-4\" type=\"checkbox\" checked><label for=\"sk-estimator-id-4\" class=\"sk-toggleable__label fitted sk-toggleable__label-arrow\"><div><div>LogisticRegression</div></div><div><a class=\"sk-estimator-doc-link fitted\" rel=\"noreferrer\" target=\"_blank\" href=\"https://scikit-learn.org/1.6/modules/generated/sklearn.linear_model.LogisticRegression.html\">?<span>Documentation for LogisticRegression</span></a><span class=\"sk-estimator-doc-link fitted\">i<span>Fitted</span></span></div></label><div class=\"sk-toggleable__content fitted\"><pre>LogisticRegression(max_iter=1000)</pre></div> </div></div></div></div>"
            ],
            "text/plain": [
              "LogisticRegression(max_iter=1000)"
            ]
          },
          "execution_count": 34,
          "metadata": {},
          "output_type": "execute_result"
        }
      ],
      "source": [
        "from sklearn.linear_model import LogisticRegression\n",
        "\n",
        "clf = LogisticRegression(max_iter=1000)\n",
        "clf.fit(X_train, y_train)\n"
      ]
    },
    {
      "cell_type": "code",
      "execution_count": 35,
      "metadata": {},
      "outputs": [
        {
          "name": "stdout",
          "output_type": "stream",
          "text": [
            "Accuracy on test set: 0.6925953627524308\n"
          ]
        }
      ],
      "source": [
        "print(\"Accuracy on test set:\", clf.score(X_test, y_test))"
      ]
    },
    {
      "cell_type": "code",
      "execution_count": 42,
      "metadata": {},
      "outputs": [
        {
          "name": "stdout",
          "output_type": "stream",
          "text": [
            "8193\n",
            "(473,)\n"
          ]
        }
      ],
      "source": [
        "oov_list = [] \n",
        "for sen in [tokenizer(sent) for sent in test_raw[:, 0]]:\n",
        "    for word in sen:\n",
        "        if word not in vectorizer.get_feature_names_out():\n",
        "            # print(f'\"{word}\" not in vocab')\n",
        "            oov_list.append(word)\n",
        "print(len(oov_list))\n",
        "oov_list_np = np.array(oov_list)\n",
        "print(np.unique(oov_list_np).shape)"
      ]
    },
    {
      "cell_type": "markdown",
      "metadata": {
        "id": "Qr9_0DnMBcFZ"
      },
      "source": [
        "# Comparison\n",
        "\n",
        "After you have completed the 3 models, compare the accuracy, ease of implementation, and inference speed (from cleaning, tokenization, till model compute) between the three models in mycourseville."
      ]
    }
  ],
  "metadata": {
    "colab": {
      "provenance": [],
      "toc_visible": true
    },
    "gpuClass": "standard",
    "kernelspec": {
      "display_name": "ML10",
      "language": "python",
      "name": "python3"
    },
    "language_info": {
      "codemirror_mode": {
        "name": "ipython",
        "version": 3
      },
      "file_extension": ".py",
      "mimetype": "text/x-python",
      "name": "python",
      "nbconvert_exporter": "python",
      "pygments_lexer": "ipython3",
      "version": "3.10.16"
    }
  },
  "nbformat": 4,
  "nbformat_minor": 0
}
