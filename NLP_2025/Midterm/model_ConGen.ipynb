{
 "cells": [
  {
   "cell_type": "code",
   "execution_count": 1,
   "metadata": {},
   "outputs": [
    {
     "name": "stderr",
     "output_type": "stream",
     "text": [
      "2025-03-15 20:45:26.294032: I tensorflow/core/util/port.cc:153] oneDNN custom operations are on. You may see slightly different numerical results due to floating-point round-off errors from different computation orders. To turn them off, set the environment variable `TF_ENABLE_ONEDNN_OPTS=0`.\n",
      "2025-03-15 20:45:26.301074: E external/local_xla/xla/stream_executor/cuda/cuda_fft.cc:477] Unable to register cuFFT factory: Attempting to register factory for plugin cuFFT when one has already been registered\n",
      "WARNING: All log messages before absl::InitializeLog() is called are written to STDERR\n",
      "E0000 00:00:1742046326.309708   24048 cuda_dnn.cc:8310] Unable to register cuDNN factory: Attempting to register factory for plugin cuDNN when one has already been registered\n",
      "E0000 00:00:1742046326.312214   24048 cuda_blas.cc:1418] Unable to register cuBLAS factory: Attempting to register factory for plugin cuBLAS when one has already been registered\n",
      "2025-03-15 20:45:26.321546: I tensorflow/core/platform/cpu_feature_guard.cc:210] This TensorFlow binary is optimized to use available CPU instructions in performance-critical operations.\n",
      "To enable the following instructions: AVX2 AVX_VNNI FMA, in other operations, rebuild TensorFlow with the appropriate compiler flags.\n"
     ]
    }
   ],
   "source": [
    "from sentence_transformers import SentenceTransformer\n",
    "import numpy as np\n",
    "import pandas as pd\n",
    "import os\n",
    "import json\n",
    "import torch\n",
    "from tqdm import tqdm\n",
    "from matplotlib import pyplot as plt\n",
    "#summary\n",
    "from torchinfo import summary"
   ]
  },
  {
   "cell_type": "code",
   "execution_count": 2,
   "metadata": {},
   "outputs": [],
   "source": [
    "MODEL_NAME = 'kornwtp/ConGen-model-XLMR'\n",
    "\n",
    "model_encode = SentenceTransformer(f'{MODEL_NAME}')"
   ]
  },
  {
   "cell_type": "code",
   "execution_count": 3,
   "metadata": {},
   "outputs": [
    {
     "name": "stdout",
     "output_type": "stream",
     "text": [
      "(768,)\n",
      "204\n",
      "tensor([[     0, 117689,   3918,  10953,  77141,  11321,   8647,    214,      6,\n",
      "          78824,  19575,   4260, 137080,   5943, 110859,   2469,   1657,  46354,\n",
      "              6, 207604,  49583,      6,   8690,   9231,  77141,  11321,   8647,\n",
      "            214,  19818, 201166, 150721,   2607,  39643,    306,   7432,  10953,\n",
      "           5819,  18538,   7790, 105005, 110651, 150721,   2607,  96759,   7432,\n",
      "           5261,  30423,   3354, 105005,  19575,   3918,  10953,  77141,  11321,\n",
      "           8647,    214,      6,  78824,  19575,   4260, 137080,   5943, 110859,\n",
      "           2469,   1657,  46354,      6, 207604,  49583,      6,   8690,   9231,\n",
      "          77141,  11321,   8647,    214,  19818, 201166, 150721,   2607,  39643,\n",
      "            306,   7432,  10953,   5819,  18538,   7790, 105005, 110651, 150721,\n",
      "           2607,  96759,   7432,   5261,  30423,   3354, 105005,  19575,   3918,\n",
      "          10953,  77141,  11321,   8647,    214,      6,  78824,  19575,   4260,\n",
      "         137080,   5943, 110859,   2469,   1657,  46354,      6, 207604,  49583,\n",
      "              6,   8690,   9231,  77141,  11321,   8647,    214,  19818, 201166,\n",
      "         150721,   2607,  39643,    306,   7432,  10953,   5819,  18538,   7790,\n",
      "         105005, 110651, 150721,   2607,  96759,   7432,   5261,  30423,   3354,\n",
      "         105005,  19575,   3918,  10953,  77141,  11321,   8647,    214,      6,\n",
      "          78824,  19575,   4260, 137080,   5943, 110859,   2469,   1657,  46354,\n",
      "              6, 207604,  49583,      6,   8690,   9231,  77141,  11321,   8647,\n",
      "            214,  19818, 201166, 150721,   2607,  39643,    306,   7432,  10953,\n",
      "           5819,  18538,   7790, 105005, 110651, 150721,   2607,  96759,   7432,\n",
      "           5261,  30423,   3354, 105005,      2]])\n",
      "torch.Size([1, 194])\n",
      "<s> เห็นด้วย เพราะการทํา AB Testing จะทําให้เห็นความแตกต่างอย่างชัดเจนว่า Conversion ส่งผลหรือไม่ อีกทั้งการทํา AB Testing จะช่วยลดผลกระทบจาก Randomness เพราะทําพร้อม ๆ กันจะได้รับผลกระทบจาก randomness ที่พอๆ กันเห็นด้วย เพราะการทํา AB Testing จะทําให้เห็นความแตกต่างอย่างชัดเจนว่า Conversion ส่งผลหรือไม่ อีกทั้งการทํา AB Testing จะช่วยลดผลกระทบจาก Randomness เพราะทําพร้อม ๆ กันจะได้รับผลกระทบจาก randomness ที่พอๆ กันเห็นด้วย เพราะการทํา AB Testing จะทําให้เห็นความแตกต่างอย่างชัดเจนว่า Conversion ส่งผลหรือไม่ อีกทั้งการทํา AB Testing จะช่วยลดผลกระทบจาก Randomness เพราะทําพร้อม ๆ กันจะได้รับผลกระทบจาก randomness ที่พอๆ กันเห็นด้วย เพราะการทํา AB Testing จะทําให้เห็นความแตกต่างอย่างชัดเจนว่า Conversion ส่งผลหรือไม่ อีกทั้งการทํา AB Testing จะช่วยลดผลกระทบจาก Randomness เพราะทําพร้อม ๆ กันจะได้รับผลกระทบจาก randomness ที่พอๆ กัน</s>\n",
      "<class 'torch.Tensor'>\n",
      "cuda:0\n"
     ]
    }
   ],
   "source": [
    "sentences = [\"กลุ่มผู้ชายเล่นฟุตบอลบนชายหาด\", \"กลุ่มเด็กชายกำลังเล่นฟุตบอลบนชายหาด\"]\n",
    "sen = \"เห็นด้วย เพราะการทำ AB Testing จะทำให้เห็นความแตกต่างอย่างชัดเจนว่า Conversion ส่งผลหรือไม่ อีกทั้งการทำ AB Testing จะช่วยลดผลกระทบจาก Randomness เพราะทำพร้อม ๆ กันจะได้รับผลกระทบจาก randomness ที่พอๆ กัน\"\n",
    "sen2 = sen*4\n",
    "embeddings = model_encode.encode(sen)\n",
    "print(embeddings.shape)\n",
    "\n",
    "print(len(sen))\n",
    "tk = model_encode.tokenize(sen)\n",
    "# print(tk['input_ids'])\n",
    "\n",
    "tokenizer = model_encode.tokenizer\n",
    "b = tokenizer.encode_plus(sen2, padding='max_length', truncation=False, return_tensors='pt')\n",
    "print(b['input_ids'])\n",
    "print(b['input_ids'].shape)\n",
    "\n",
    "# reverse\n",
    "re = tokenizer.decode(b['input_ids'][0])\n",
    "print(re)\n",
    "\n",
    "# get embeddings\n",
    "embeddings = model_encode.encode(re, convert_to_tensor=True, device='cuda')\n",
    "print(type(embeddings))\n",
    "print(embeddings.device)"
   ]
  },
  {
   "cell_type": "code",
   "execution_count": 4,
   "metadata": {},
   "outputs": [],
   "source": [
    "# Linear 768 -> 256 -> 5 [logits]\n",
    "class myModel(torch.nn.Module):\n",
    "    def __init__(self, input_dim, output_dim, model_name, tokenizer):\n",
    "        super(myModel, self).__init__()\n",
    "        self.encoder = SentenceTransformer(model_name)\n",
    "        self.linear0 = torch.nn.Linear(768, 768)\n",
    "        self.linear = torch.nn.Linear(768, 256)\n",
    "        self.linear2 = torch.nn.Linear(256, output_dim)\n",
    "        self.relu = torch.nn.ReLU()\n",
    "        self.sigmoid = torch.nn.Sigmoid()\n",
    "        self.dropout = torch.nn.Dropout(0.1)\n",
    "        self.tokenizer = tokenizer\n",
    "\n",
    "    def forward(self, x):\n",
    "        x = self.encoder.encode(tokenizer.batch_decode(x), convert_to_tensor=True, device='cuda')\n",
    "        x = self.linear0(x)\n",
    "        x = self.relu(x)\n",
    "        x = self.linear(x)\n",
    "        x = self.relu(x)\n",
    "        x = self.dropout(x)\n",
    "        x = self.linear2(x)\n",
    "        return x\n",
    "\n",
    "# Dataset\n",
    "class CustomDataset(torch.utils.data.Dataset):\n",
    "    def __init__(self, X, Y):\n",
    "        self.X = X\n",
    "        self.Y = Y\n",
    "\n",
    "    def __len__(self):\n",
    "        return len(self.X)\n",
    "\n",
    "    def __getitem__(self, idx):\n",
    "        return self.X[idx], self.Y[idx]"
   ]
  },
  {
   "cell_type": "code",
   "execution_count": 5,
   "metadata": {},
   "outputs": [
    {
     "name": "stdout",
     "output_type": "stream",
     "text": [
      "(1, 2, 3)\n"
     ]
    }
   ],
   "source": [
    "a = [1, 2, 3]\n",
    "a = tuple(a)\n",
    "print(a)"
   ]
  },
  {
   "cell_type": "code",
   "execution_count": 6,
   "metadata": {},
   "outputs": [
    {
     "name": "stdout",
     "output_type": "stream",
     "text": [
      "9\n"
     ]
    }
   ],
   "source": [
    "a = 4.5\n",
    "idx = int(a*2)\n",
    "print(idx)"
   ]
  },
  {
   "cell_type": "code",
   "execution_count": 7,
   "metadata": {},
   "outputs": [],
   "source": [
    "\n",
    "def load_dataset(qset, tokenizer, raw=False):\n",
    "    train_csv = pd.read_csv(f'./dataset/processed/train_Q{qset}.csv')\n",
    "    test_csv = pd.read_csv(f'./dataset/processed/test_Q{qset}.csv')\n",
    "    val_csv = pd.read_csv(f'./dataset/processed/valid_Q{qset}.csv')\n",
    "\n",
    "    X_train = train_csv['answer'].tolist()\n",
    "    Y_train = train_csv['score'].tolist()\n",
    "    X_val = val_csv['answer'].tolist()\n",
    "    Y_val = val_csv['score'].tolist()\n",
    "    X_test = test_csv['answer'].tolist()\n",
    "    X_id = test_csv['ID'].tolist()\n",
    "    alll = []\n",
    "    for y in Y_train:\n",
    "        alll.append(y)\n",
    "    for y in Y_val:\n",
    "        alll.append(y)\n",
    "    unk = np.unique(alll)\n",
    "    print(unk)\n",
    "    mapp = {}\n",
    "    for i, u in enumerate(unk):\n",
    "        mapp[u] = i\n",
    "    print(mapp)\n",
    "\n",
    "    couu = np.zeros(len(unk))\n",
    "    Y_train_out = np.zeros((len(Y_train), len(unk)))\n",
    "    Y_val_out = np.zeros((len(Y_val), len(unk)))\n",
    "    for i, y in enumerate(Y_train):\n",
    "        idx = mapp[y]\n",
    "        Y_train_out[i][idx] = 1\n",
    "        couu[idx] += 1\n",
    "    for i, y in enumerate(Y_val):\n",
    "        idx = mapp[y]\n",
    "        Y_val_out[i][idx] = 1\n",
    "    \n",
    "    ma = 0\n",
    "    for x in X_train:\n",
    "        tk = tokenizer.encode_plus(x, padding='max_length', truncation=False, return_tensors='pt')\n",
    "        ma = max(ma, tk['input_ids'].shape[1])\n",
    "    for x in X_val:\n",
    "        tk = tokenizer.encode_plus(x, padding='max_length', truncation=False, return_tensors='pt')\n",
    "        ma = max(ma, tk['input_ids'].shape[1])\n",
    "    for x in X_test:\n",
    "        tk = tokenizer.encode_plus(x, padding='max_length', truncation=False, return_tensors='pt')\n",
    "        ma = max(ma, tk['input_ids'].shape[1])\n",
    "    print(ma)\n",
    "\n",
    "    X_train_out = []\n",
    "    X_val_out = []\n",
    "    X_test_out = []\n",
    "    for x in X_train:\n",
    "        tk = tokenizer.encode_plus(x, padding='max_length', truncation=False, return_tensors='pt',max_length=ma)\n",
    "        X_train_out.append(tk['input_ids'][0])\n",
    "    for x in X_val:\n",
    "        tk = tokenizer.encode_plus(x, padding='max_length', truncation=False, return_tensors='pt',max_length=ma)\n",
    "        X_val_out.append(tk['input_ids'][0])\n",
    "    for x in X_test:\n",
    "        tk = tokenizer.encode_plus(x, padding='max_length', truncation=False, return_tensors='pt',max_length=ma)\n",
    "        X_test_out.append(tk['input_ids'][0])\n",
    "\n",
    "    return np.array(X_train_out), Y_train_out, np.array(X_val_out), Y_val_out, np.array(X_test_out), X_id, couu, unk\n",
    "    "
   ]
  },
  {
   "cell_type": "markdown",
   "metadata": {},
   "source": [
    "# Dataset"
   ]
  },
  {
   "cell_type": "code",
   "execution_count": 78,
   "metadata": {},
   "outputs": [],
   "source": [
    "question_set = 4"
   ]
  },
  {
   "cell_type": "code",
   "execution_count": 79,
   "metadata": {},
   "outputs": [
    {
     "name": "stdout",
     "output_type": "stream",
     "text": [
      "[0.  0.5 1.  2.  3.  4.  4.5 5. ]\n",
      "{0.0: 0, 0.5: 1, 1.0: 2, 2.0: 3, 3.0: 4, 4.0: 5, 4.5: 6, 5.0: 7}\n",
      "339\n",
      "[ 1.  1.  9.  1. 11.  6.  1. 55.]\n",
      "[7.72727273 7.72727273 0.85858586 7.72727273 0.70247934 1.28787879\n",
      " 7.72727273 0.14049587]\n",
      "(85, 339) (85, 8) (6, 339) (6, 8) (22, 339) [363, 366, 373, 376, 377, 380, 383, 386, 393, 396, 397, 399, 404, 410, 411, 419, 423, 432, 439, 444, 445, 451]\n",
      "torch.Size([32, 339]) torch.Size([32, 8])\n",
      "torch.Size([10848])\n",
      "32\n",
      "(32, 768)\n"
     ]
    }
   ],
   "source": [
    "X_train_1, Y_train_1, X_val_1, Y_val_1, X_test_1, X_test_id, couu, unk = load_dataset(question_set, tokenizer, raw=False)\n",
    "print(couu)\n",
    "entro_weight = couu.sum() / (couu*11)\n",
    "print(entro_weight)\n",
    "train_dataset = CustomDataset(X_train_1, Y_train_1)\n",
    "val_dataset = CustomDataset(X_val_1, Y_val_1)\n",
    "\n",
    "print(X_train_1.shape, Y_train_1.shape, X_val_1.shape, Y_val_1.shape, X_test_1.shape, X_test_id)\n",
    "\n",
    "train_loader = torch.utils.data.DataLoader(train_dataset, batch_size=32, shuffle=True)\n",
    "val_loader = torch.utils.data.DataLoader(val_dataset, batch_size=32, shuffle=False)\n",
    "\n",
    "# print(X_train_1.shape, Y_train_1.shape, X_val_1.shape, Y_val_1.shape, X_test_1.shape)\n",
    "\n",
    "# print(np.unique(Y_train_1))\n",
    "# print(np.unique(Y_val_1))\n",
    "\n",
    "a = next(iter(train_loader))\n",
    "print(a[0].shape, a[1].shape)\n",
    "aa = a[0].reshape(-1)\n",
    "print(aa.shape)\n",
    "re = tokenizer.batch_decode(a[0])\n",
    "print(len(re))\n",
    "out = model_encode.encode(re)\n",
    "print(out.shape)"
   ]
  },
  {
   "cell_type": "code",
   "execution_count": 80,
   "metadata": {},
   "outputs": [
    {
     "name": "stdout",
     "output_type": "stream",
     "text": [
      "[     0    836 128415  80108   3641  21222  14793  12848    699 133354\n",
      "  80108  20966  21222   5451 192557  15816 137551  34851  38937  13366\n",
      "  21685  13687   6715     15  66140    699  62514  44792     16 116195\n",
      "  18729  13601 150721   6938 144155 114435   5407   8482   2248  74957\n",
      "  80108   3641  21222      6 192557 186746  26030   2386  87875  17140\n",
      "  18310    699 110651 150721  51754  11165 168046  80108  20966  21222\n",
      "      6  54378 101911  23609  12848  31700 108952   2248  74957  10953\n",
      "  10699  70485   7526  57467   2859   3356 128548  10818  23075  19184\n",
      "   1805  44824    106   6976 120980  17293   2859  32404   1834    699\n",
      "  38937      6 199364 176469   3354 116195  13601 150721   5943   9438\n",
      "  48484   6938  23539   1037  10699  70485      2      1      1      1\n",
      "      1      1      1      1      1      1      1      1      1      1\n",
      "      1      1      1      1      1      1      1      1      1      1\n",
      "      1      1      1      1      1      1      1      1      1      1\n",
      "      1      1      1      1      1      1      1      1      1      1\n",
      "      1      1      1      1      1      1      1      1      1      1\n",
      "      1      1      1      1      1      1      1      1      1      1\n",
      "      1      1      1      1      1      1      1      1      1      1\n",
      "      1      1      1      1      1      1      1      1      1      1\n",
      "      1      1      1      1      1      1      1      1      1      1\n",
      "      1      1      1      1      1      1      1      1      1      1\n",
      "      1      1      1      1      1      1      1      1      1      1\n",
      "      1      1      1      1      1      1      1      1      1      1\n",
      "      1      1      1      1      1      1      1      1      1      1\n",
      "      1      1      1      1      1      1      1      1      1      1\n",
      "      1      1      1      1      1      1      1      1      1      1\n",
      "      1      1      1      1      1      1      1      1      1      1\n",
      "      1      1      1      1      1      1      1      1      1      1\n",
      "      1      1      1      1      1      1      1      1      1      1\n",
      "      1      1      1      1      1      1      1      1      1      1\n",
      "      1      1      1      1      1      1      1      1      1      1\n",
      "      1      1      1      1      1      1      1      1      1      1\n",
      "      1      1      1      1      1      1      1      1      1      1\n",
      "      1      1      1      1      1      1      1      1      1]\n",
      "(768,)\n"
     ]
    }
   ],
   "source": [
    "# test\n",
    "\n",
    "a = train_dataset[0]\n",
    "# print(a[0].shape, a[1])\n",
    "print(a[0])\n",
    "outt = model_encode.encode(tokenizer.decode(a[0]))\n",
    "print(outt.shape)"
   ]
  },
  {
   "cell_type": "code",
   "execution_count": 81,
   "metadata": {},
   "outputs": [
    {
     "name": "stdout",
     "output_type": "stream",
     "text": [
      "[ 1.  1.  9.  1. 11.  6.  1. 55.]\n",
      "[2.47727273 2.47727273 0.82575758 2.47727273 0.70779221 1.1010101\n",
      " 2.47727273 0.17084639]\n"
     ]
    }
   ],
   "source": [
    "print(couu)\n",
    "couuu = couu+3\n",
    "entro_weight = couuu.sum() / (couuu*11)\n",
    "print(entro_weight)"
   ]
  },
  {
   "cell_type": "code",
   "execution_count": 82,
   "metadata": {},
   "outputs": [
    {
     "data": {
      "text/plain": [
       "myModel(\n",
       "  (encoder): SentenceTransformer(\n",
       "    (0): Transformer({'max_seq_length': 128, 'do_lower_case': False}) with Transformer model: XLMRobertaModel \n",
       "    (1): Pooling({'word_embedding_dimension': 768, 'pooling_mode_cls_token': False, 'pooling_mode_mean_tokens': True, 'pooling_mode_max_tokens': False, 'pooling_mode_mean_sqrt_len_tokens': False, 'pooling_mode_weightedmean_tokens': False, 'pooling_mode_lasttoken': False, 'include_prompt': True})\n",
       "    (2): Dense({'in_features': 768, 'out_features': 768, 'bias': True, 'activation_function': 'torch.nn.modules.activation.Tanh'})\n",
       "  )\n",
       "  (linear0): Linear(in_features=768, out_features=768, bias=True)\n",
       "  (linear): Linear(in_features=768, out_features=256, bias=True)\n",
       "  (linear2): Linear(in_features=256, out_features=8, bias=True)\n",
       "  (relu): ReLU()\n",
       "  (sigmoid): Sigmoid()\n",
       "  (dropout): Dropout(p=0.1, inplace=False)\n",
       ")"
      ]
     },
     "execution_count": 82,
     "metadata": {},
     "output_type": "execute_result"
    }
   ],
   "source": [
    "model = myModel(768, len(unk), MODEL_NAME, tokenizer)\n",
    "criterion = torch.nn.CrossEntropyLoss(weight=torch.tensor(entro_weight).float().to(\"cuda\"))\n",
    "criterion_val = torch.nn.CrossEntropyLoss()\n",
    "optimizer = torch.optim.Adam(model.parameters(), lr=0.0003)\n",
    "lr_scheduler = torch.optim.lr_scheduler.ExponentialLR(optimizer, gamma=0.95)\n",
    "device = 'cuda'\n",
    "epochs = 100\n",
    "\n",
    "model.to(device)"
   ]
  },
  {
   "cell_type": "code",
   "execution_count": 83,
   "metadata": {},
   "outputs": [
    {
     "name": "stdout",
     "output_type": "stream",
     "text": [
      "<bound method Module.parameters of myModel(\n",
      "  (encoder): SentenceTransformer(\n",
      "    (0): Transformer({'max_seq_length': 128, 'do_lower_case': False}) with Transformer model: XLMRobertaModel \n",
      "    (1): Pooling({'word_embedding_dimension': 768, 'pooling_mode_cls_token': False, 'pooling_mode_mean_tokens': True, 'pooling_mode_max_tokens': False, 'pooling_mode_mean_sqrt_len_tokens': False, 'pooling_mode_weightedmean_tokens': False, 'pooling_mode_lasttoken': False, 'include_prompt': True})\n",
      "    (2): Dense({'in_features': 768, 'out_features': 768, 'bias': True, 'activation_function': 'torch.nn.modules.activation.Tanh'})\n",
      "  )\n",
      "  (linear0): Linear(in_features=768, out_features=768, bias=True)\n",
      "  (linear): Linear(in_features=768, out_features=256, bias=True)\n",
      "  (linear2): Linear(in_features=256, out_features=8, bias=True)\n",
      "  (relu): ReLU()\n",
      "  (sigmoid): Sigmoid()\n",
      "  (dropout): Dropout(p=0.1, inplace=False)\n",
      ")>\n"
     ]
    }
   ],
   "source": [
    "print(model.parameters)"
   ]
  },
  {
   "cell_type": "code",
   "execution_count": 84,
   "metadata": {},
   "outputs": [
    {
     "name": "stdout",
     "output_type": "stream",
     "text": [
      "torch.int64\n"
     ]
    },
    {
     "data": {
      "text/plain": [
       "=============================================================================================================================\n",
       "Layer (type:depth-idx)                                                      Output Shape              Param #\n",
       "=============================================================================================================================\n",
       "myModel                                                                     [32, 8]                   --\n",
       "├─SentenceTransformer: 1-1                                                  --                        --\n",
       "│    └─Transformer: 2-1                                                     [32, 128, 768]            --\n",
       "│    │    └─XLMRobertaModel: 3-1                                            [32, 128, 768]            278,043,648\n",
       "│    └─Pooling: 2-2                                                         [32, 768]                 --\n",
       "│    └─Dense: 2-3                                                           [32, 768]                 --\n",
       "│    │    └─Linear: 3-2                                                     [32, 768]                 590,592\n",
       "│    │    └─Tanh: 3-3                                                       [32, 768]                 --\n",
       "├─Linear: 1-2                                                               [32, 768]                 590,592\n",
       "├─ReLU: 1-3                                                                 [32, 768]                 --\n",
       "├─Linear: 1-4                                                               [32, 256]                 196,864\n",
       "├─ReLU: 1-5                                                                 [32, 256]                 --\n",
       "├─Dropout: 1-6                                                              [32, 256]                 --\n",
       "├─Linear: 1-7                                                               [32, 8]                   2,056\n",
       "=============================================================================================================================\n",
       "Total params: 279,423,752\n",
       "Trainable params: 279,423,752\n",
       "Non-trainable params: 0\n",
       "Total mult-adds (G): 8.94\n",
       "=============================================================================================================================\n",
       "Input size (MB): 0.07\n",
       "Forward/backward pass size (MB): 3423.21\n",
       "Params size (MB): 1117.70\n",
       "Estimated Total Size (MB): 4540.97\n",
       "============================================================================================================================="
      ]
     },
     "execution_count": 84,
     "metadata": {},
     "output_type": "execute_result"
    }
   ],
   "source": [
    "ma = 267\n",
    "foo = torch.zeros((32, ma), dtype=torch.int64)\n",
    "print(foo.dtype)\n",
    "\n",
    "# freeze encoder\n",
    "# for param in model.encoder.parameters():\n",
    "#     param.requires_grad = False\n",
    "\n",
    "summary(model, input_data=foo)"
   ]
  },
  {
   "cell_type": "code",
   "execution_count": 85,
   "metadata": {},
   "outputs": [
    {
     "name": "stderr",
     "output_type": "stream",
     "text": [
      "100%|██████████| 100/100 [00:11<00:00,  8.43it/s]\n"
     ]
    }
   ],
   "source": [
    "train_loss_all = []\n",
    "val_loss_all = []\n",
    "for i in tqdm(range(epochs)):\n",
    "    # Learning Rate\n",
    "    # print(optimizer.param_groups[0]['lr'])\n",
    "    model.train()\n",
    "    train_loss = []\n",
    "    for X_batch, Y_batch in train_loader:\n",
    "        # print(len(X_batch), len(Y_batch))\n",
    "        # X_batch, Y_batch = X_batch.to(device), Y_batch.to(device)\n",
    "        X_batch, Y_batch = np.array(X_batch), Y_batch.to(device)\n",
    "        optimizer.zero_grad()\n",
    "        # print(X_batch.shape)\n",
    "        output = model(X_batch)\n",
    "        # print(output.dtype, Y_batch.dtype)\n",
    "        loss = criterion(output, Y_batch)\n",
    "        loss.backward()\n",
    "        optimizer.step()\n",
    "        train_loss.append(loss.item())\n",
    "    # print(f'Epoch: {i} Train Loss: {np.mean(train_loss)}')\n",
    "    train_loss_all.append(np.mean(train_loss))\n",
    "\n",
    "    model.eval()\n",
    "    with torch.no_grad():\n",
    "        val_loss = []\n",
    "        for X_batch, Y_batch in val_loader:\n",
    "            X_batch, Y_batch = X_batch.to(device), Y_batch.to(device)\n",
    "            output = model(X_batch)\n",
    "            loss = criterion_val(output, Y_batch)\n",
    "            val_loss.append(loss.item())\n",
    "        # print(f'Epoch: {i} Val Loss: {np.mean(val_loss)}')\n",
    "        lr_scheduler.step()\n",
    "        val_loss_all.append(np.mean(val_loss))\n"
   ]
  },
  {
   "cell_type": "code",
   "execution_count": 86,
   "metadata": {},
   "outputs": [
    {
     "data": {
      "text/plain": [
       "<matplotlib.legend.Legend at 0x7f2260d5c850>"
      ]
     },
     "execution_count": 86,
     "metadata": {},
     "output_type": "execute_result"
    },
    {
     "data": {
      "image/png": "[encoded data removed]",
      "text/plain": [
       "<Figure size 640x480 with 1 Axes>"
      ]
     },
     "metadata": {},
     "output_type": "display_data"
    }
   ],
   "source": [
    "plt.plot(train_loss_all, label='Train Loss')\n",
    "plt.plot(val_loss_all, label='Val Loss')\n",
    "plt.legend()"
   ]
  },
  {
   "cell_type": "code",
   "execution_count": 87,
   "metadata": {},
   "outputs": [
    {
     "name": "stdout",
     "output_type": "stream",
     "text": [
      "(339,)\n",
      "5\n",
      "tensor([7], device='cuda:0')\n"
     ]
    }
   ],
   "source": [
    "val_0 = train_dataset[80]\n",
    "print(val_0[0].shape)\n",
    "print(np.argmax(val_0[1]))\n",
    "inp = torch.tensor(val_0[0].reshape(1, -1)).to(device)\n",
    "model.eval()\n",
    "out = model(inp)\n",
    "print(torch.argmax(out, dim=1))"
   ]
  },
  {
   "cell_type": "code",
   "execution_count": 95,
   "metadata": {},
   "outputs": [
    {
     "name": "stdout",
     "output_type": "stream",
     "text": [
      "Predict: 4.998141577043828 True: 5.0\n",
      "Predict: 4.976334883693411 True: 5.0\n",
      "Predict: 4.267489407370476 True: 5.0\n",
      "Predict: 4.9995953963594575 True: 5.0\n",
      "Predict: 4.86050906056721 True: 5.0\n",
      "Predict: 4.891137140586437 True: 5.0\n",
      "Predict: 4.955618075541224 True: 5.0\n",
      "Predict: 4.988368973629664 True: 5.0\n",
      "Predict: 4.980190352078033 True: 5.0\n",
      "Predict: 4.507598659868563 True: 5.0\n",
      "Predict: 4.997659368576231 True: 5.0\n",
      "Predict: 4.731743335130091 True: 5.0\n",
      "Predict: 4.575542060571024 True: 5.0\n",
      "Predict: 4.504279401220629 True: 5.0\n",
      "Predict: 4.99931504036616 True: 5.0\n",
      "Predict: 4.991416050094078 True: 5.0\n",
      "Predict: 4.946509219111931 True: 5.0\n",
      "Predict: 4.985811928720921 True: 5.0\n",
      "Predict: 4.993489644135543 True: 5.0\n",
      "Predict: 4.528714690816287 True: 5.0\n",
      "Predict: 4.508215126358323 True: 5.0\n",
      "Predict: 4.894632403915978 True: 5.0\n",
      "Predict: 4.9995623485360134 True: 5.0\n",
      "Predict: 4.985833257986862 True: 5.0\n",
      "Predict: 4.854458677337153 True: 5.0\n",
      "Predict: 4.826123390253997 True: 5.0\n",
      "Predict: 4.9856228398249876 True: 5.0\n",
      "Predict: 4.9994097702472935 True: 5.0\n",
      "Predict: 4.9391838381221405 True: 5.0\n",
      "Predict: 4.179755938254061 True: 5.0\n",
      "Predict: 4.73917054896765 True: 5.0\n",
      "Predict: 4.528634177225285 True: 5.0\n",
      "Predict: 2.9978467985783936 True: 5.0\n",
      "Predict: 4.998905125370548 True: 5.0\n",
      "Predict: 4.582542337884206 True: 5.0\n",
      "Predict: 3.4171299193403684 True: 5.0\n",
      "Predict: 3.6818659136115457 True: 5.0\n",
      "Predict: 4.659516596937465 True: 5.0\n",
      "Predict: 4.548617435431879 True: 5.0\n",
      "Predict: 4.996445693255193 True: 5.0\n",
      "Predict: 4.999415244832599 True: 5.0\n",
      "Predict: 4.399847717444345 True: 5.0\n",
      "Predict: 4.34375710242 True: 5.0\n",
      "Predict: 4.948218391781211 True: 5.0\n",
      "Predict: 4.999719409888241 True: 5.0\n",
      "Predict: 4.568492157441142 True: 5.0\n",
      "Predict: 4.984869657747327 True: 5.0\n",
      "Predict: 4.4350537896445985 True: 5.0\n",
      "Predict: 4.928581266261972 True: 5.0\n",
      "Predict: 4.995694768310578 True: 5.0\n",
      "Predict: 3.950348713551648 True: 5.0\n",
      "Predict: 4.999898358971508 True: 5.0\n",
      "Predict: 4.031216327447964 True: 5.0\n",
      "Predict: 4.066683525320968 True: 5.0\n",
      "Predict: 4.2698159715273505 True: 5.0\n",
      "Predict: 4.191654375210419 True: 3.0\n",
      "Predict: 3.1103212854615094 True: 3.0\n",
      "Predict: 1.2576378482421982 True: 3.0\n",
      "Predict: 2.9218884623551276 True: 3.0\n",
      "Predict: 2.9142921864404343 True: 3.0\n",
      "Predict: 4.725078765562915 True: 3.0\n",
      "Predict: 3.9535211410457123 True: 3.0\n",
      "Predict: 2.072074213679855 True: 3.0\n",
      "Predict: 3.3056954272661017 True: 3.0\n",
      "Predict: 3.627005699569054 True: 3.0\n",
      "Predict: 4.592823701663974 True: 3.0\n",
      "Predict: 1.0739186307898505 True: 1.0\n",
      "Predict: 1.1833118827448459 True: 1.0\n",
      "Predict: 2.598032411013264 True: 1.0\n",
      "Predict: 2.4142515152689157 True: 1.0\n",
      "Predict: 1.389766476466658 True: 1.0\n",
      "Predict: 1.2901490190154732 True: 1.0\n",
      "Predict: 3.6314788094023243 True: 1.0\n",
      "Predict: 1.0283589750615665 True: 1.0\n",
      "Predict: 1.0423160559122606 True: 1.0\n",
      "Predict: 1.1960015780647666 True: 0.5\n",
      "Predict: 4.2797650595603045 True: 4.0\n",
      "Predict: 4.871487633433617 True: 4.0\n",
      "Predict: 4.384597741674952 True: 4.0\n",
      "Predict: 4.169101511105509 True: 4.0\n",
      "Predict: 4.5536864094215765 True: 4.0\n",
      "Predict: 4.193201489595012 True: 4.0\n",
      "Predict: 2.955278766050469 True: 2.0\n",
      "Predict: 4.672826342641201 True: 4.5\n",
      "Predict: 3.917814732492843 True: 0.0\n",
      "0.6875790971767571\n"
     ]
    }
   ],
   "source": [
    "use_set = train_dataset\n",
    "pred = []\n",
    "true = []\n",
    "for i in range(len(use_set)):\n",
    "    val_0 = use_set[i]\n",
    "    inp = torch.tensor(val_0[0].reshape(1, -1)).to(device)\n",
    "    model.eval()\n",
    "    out = model(inp)\n",
    "    sc = torch.tensor(unk).to(device)\n",
    "\n",
    "    outt = torch.nn.functional.softmax(out*4.5, dim=1)\n",
    "    # print(outt)\n",
    "    scc = torch.sum(outt*sc, dim=1)\n",
    "    print(f'Predict: {scc.item()} True: {unk[np.argmax(val_0[1])]}')\n",
    "    pred.append(scc.item())\n",
    "    true.append(unk[np.argmax(val_0[1])])\n",
    "\n",
    "loss_fn = torch.nn.MSELoss()\n",
    "loss = loss_fn(torch.tensor(pred), torch.tensor(true))\n",
    "print(loss.item())"
   ]
  },
  {
   "cell_type": "code",
   "execution_count": 96,
   "metadata": {},
   "outputs": [
    {
     "name": "stdout",
     "output_type": "stream",
     "text": [
      "     ID     Score\n",
      "0   363  4.998142\n",
      "1   366  4.976335\n",
      "2   373  4.267489\n",
      "3   376  4.999595\n",
      "4   377  4.860509\n",
      "5   380  4.891137\n",
      "6   383  4.955618\n",
      "7   386  4.988369\n",
      "8   393  4.980190\n",
      "9   396  4.507599\n",
      "10  397  4.997659\n",
      "11  399  4.731743\n",
      "12  404  4.575542\n",
      "13  410  4.504279\n",
      "14  411  4.999315\n",
      "15  419  4.991416\n",
      "16  423  4.946509\n",
      "17  432  4.985812\n",
      "18  439  4.993490\n",
      "19  444  4.528715\n",
      "20  445  4.508215\n",
      "21  451  4.894632\n"
     ]
    }
   ],
   "source": [
    "output_path = f\"./output2/Q{question_set}.csv\"\n",
    "output = []\n",
    "for i in range(len(X_test_1)):\n",
    "    val_0 = use_set[i]\n",
    "    inp = torch.tensor(val_0[0].reshape(1, -1)).to(device)\n",
    "    model.eval()\n",
    "    out = model(inp)\n",
    "    sc = torch.tensor(unk).to(device)\n",
    "    outt = torch.nn.functional.softmax(out*4.5, dim=1)\n",
    "    scc = torch.sum(outt*sc, dim=1)\n",
    "    output.append([X_test_id[i], scc.item()])\n",
    "\n",
    "df = pd.DataFrame(output, columns=['ID', 'Score'])\n",
    "df.to_csv(output_path, index=False)\n",
    "print(df)\n"
   ]
  },
  {
   "cell_type": "code",
   "execution_count": 99,
   "metadata": {},
   "outputs": [
    {
     "name": "stdout",
     "output_type": "stream",
     "text": [
      "     ID     Score\n",
      "0   362  3.771651\n",
      "1   363  4.998142\n",
      "2   364  3.003294\n",
      "3   365  4.727075\n",
      "4   366  4.976335\n",
      "..  ...       ...\n",
      "85  447  3.677685\n",
      "86  448  1.233329\n",
      "87  449  1.416356\n",
      "88  450  1.211991\n",
      "89  451  4.894632\n",
      "\n",
      "[90 rows x 2 columns]\n"
     ]
    }
   ],
   "source": [
    "sets = [1, 2, 3, 4]\n",
    "all_out = []\n",
    "coll = ['ID', 'Score']\n",
    "for s in sets:\n",
    "    output_path = f\"./output2/Q{s}.csv\"\n",
    "    df = pd.read_csv(output_path)\n",
    "    sc, idd = df['Score'].tolist(), df['ID'].tolist()\n",
    "    for i in range(len(sc)):\n",
    "        all_out.append([idd[i], sc[i]])\n",
    "\n",
    "all_out = sorted(all_out, key=lambda x: x[0])\n",
    "\n",
    "df = pd.DataFrame(all_out, columns=coll)\n",
    "df.to_csv('./output2/all.csv', index=False)\n",
    "print(df)"
   ]
  }
 ],
 "metadata": {
  "kernelspec": {
   "display_name": "ML10",
   "language": "python",
   "name": "python3"
  },
  "language_info": {
   "codemirror_mode": {
    "name": "ipython",
    "version": 3
   },
   "file_extension": ".py",
   "mimetype": "text/x-python",
   "name": "python",
   "nbconvert_exporter": "python",
   "pygments_lexer": "ipython3",
   "version": "3.10.16"
  }
 },
 "nbformat": 4,
 "nbformat_minor": 2
}
